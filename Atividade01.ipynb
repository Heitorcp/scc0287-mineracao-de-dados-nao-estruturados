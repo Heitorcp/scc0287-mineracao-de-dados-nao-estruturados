{
  "nbformat": 4,
  "nbformat_minor": 0,
  "metadata": {
    "colab": {
      "provenance": []
    },
    "kernelspec": {
      "name": "python3",
      "display_name": "Python 3"
    },
    "language_info": {
      "name": "python"
    }
  },
  "cells": [
    {
      "cell_type": "markdown",
      "source": [
        "# Atividade 01 - Mineração de Dados Não Estruturados (SCC0287)\n",
        "\n",
        "---\n",
        "\n",
        "Heitor Carvalho Pinheiro\n",
        "\n",
        "---\n"
      ],
      "metadata": {
        "id": "OXKgmAlgLK_u"
      }
    },
    {
      "cell_type": "code",
      "source": [
        "import pandas as pd\n",
        "import numpy as np\n",
        "from sklearn.preprocessing import StandardScaler, MinMaxScaler\n",
        "from sklearn.feature_selection import chi2, SelectKBest, RFECV, RFE\n",
        "from sklearn.model_selection import train_test_split\n",
        "from sklearn.neighbors import KNeighborsClassifier\n",
        "from sklearn.metrics import accuracy_score\n",
        "from sklearn.ensemble import RandomForestClassifier\n",
        "from sklearn.metrics import classification_report\n",
        "\n",
        "\n",
        "import statsmodels.api as sm\n",
        "import statsmodels.formula.api as smf\n",
        "\n",
        "pd.set_option('display.max_columns', 500)"
      ],
      "metadata": {
        "id": "Qd1cyGsxNxvm"
      },
      "execution_count": null,
      "outputs": []
    },
    {
      "cell_type": "markdown",
      "source": [
        "# Sobre os Dados"
      ],
      "metadata": {
        "id": "op8MDBiUNCru"
      }
    },
    {
      "cell_type": "markdown",
      "source": [
        "**Classificação Binária com um Conjunto de Dados de Defeitos de Software\n",
        "Série Playground - Temporada 3, Episódio 23**\n",
        "\n",
        "**Descrição do Conjunto de Dados**\n",
        "\n",
        "O conjunto de dados para esta competição (tanto de treino quanto de teste) foi gerado a partir de um modelo de deep learning treinado no [Conjunto de Dados de Defeitos de Software](https://www.kaggle.com/datasets/semustafacevik/software-defect-prediction).\n",
        "\n",
        "As distribuições das características são próximas, mas não exatamente iguais às do original. Fique à vontade para usar o conjunto de dados original como parte desta competição, tanto para explorar as diferenças quanto para ver se a incorporação do original no treinamento melhora o desempenho do modelo.\n",
        "\n",
        "**Arquivos**\n",
        "\n",
        "* train.csv - o conjunto de dados de treino; defects é a variável alvo binária, que é tratada como um booleano (False=0, True=1)\n",
        "\n",
        "* test.csv - o conjunto de dados de teste; seu objetivo é prever a probabilidade de defeitos positivos (ou seja, defects=True)\n",
        "\n",
        "* sample_submission.csv - um arquivo de submissão de exemplo no formato correto`"
      ],
      "metadata": {
        "id": "sdKyMgLPRVn3"
      }
    },
    {
      "cell_type": "markdown",
      "source": [
        "### Dicionário de Dados\n",
        "\n",
        "**Sobre as métricas de McCabe**\n",
        "\n",
        "`As métricas de McCabe são uma coleção de quatro métricas de software: complexidade essencial, complexidade ciclomática, complexidade de design e LOC, Linhas de Código.`\n",
        "\n",
        "`-- **Complexidade Ciclomática**, ou \"v(G)\", mede o número de \"caminhos linearmente independentes\". Um conjunto de caminhos é considerado linearmente independente se nenhum caminho no conjunto for uma combinação linear de quaisquer outros caminhos no conjunto através do \"fluxograma\" de um programa. Um fluxograma é um grafo direcionado onde cada nó corresponde a uma instrução do programa, e cada arco indica o fluxo de controle de uma instrução para outra. \"v(G)\" é calculado por \"v(G) = e - n + 2\", onde \"G\" é o fluxograma de um programa, \"e\" é o número de arcos no fluxograma, e \"n\" é o número de nós no fluxograma. As regras padrão de McCabe (\"v(G)\" > 10) são usadas para identificar módulos propensos a falhas.\n",
        "\n",
        "-- **Complexidade Essencial**, ou \"ev(G)\", é a extensão pela qual um fluxograma pode ser \"reduzido\" decompondo todos os subfluxogramas de \"G\" que são \"primos estruturados em D\". Esses \"primos estruturados em D\" são às vezes referidos como \"subfluxogramas adequados de entrada única e saída única\" (para uma discussão mais aprofundada sobre D-primes, veja o texto de Fenton referido acima). \"ev(G)\" é calculado usando \"ev(G) = v(G) - m\", onde \"m\" é o número de subfluxogramas de \"G\" que são primos estruturados em D.\n",
        "\n",
        "-- **Complexidade de Design**: qualquer complexidade que não influencie a inter-relação entre os módulos de design. Segundo McCabe, essa medida de complexidade reflete os padrões de chamada dos módulos para seus módulos subordinados imediatos.\n",
        "\n",
        "-- **Linhas de código (LOC)** são medidas de acordo com as convenções de contagem de linhas de McCabe.\n",
        "\n",
        "**Sobre as métricas de Halstead**\n",
        "\n",
        "`As métricas de Halstead se dividem em três grupos: as medidas básicas, as medidas derivadas e as medidas de linhas de código.`\n",
        "\n",
        "-- **Medidas básicas**:\n",
        "   -- mu1             = número de operadores únicos\n",
        "   \n",
        "   -- mu2             = número de operandos únicos\n",
        "   \n",
        "   -- N1              = ocorrências totais de operadores\n",
        "   \n",
        "   -- N2              = ocorrências totais de operandos\n",
        "   \n",
        "   -- comprimento     = N  = N1 + N2\n",
        "   \n",
        "   -- vocabulário = mu = mu1 + mu2\n",
        "   \n",
        "   -- Constantes definidas para cada função:\n",
        "      \n",
        "      -- mu1' = 2 = contagem potencial de operadores (apenas o nome da função e o operador \"return\")\n",
        "      \n",
        "      -- mu2'      = contagem potencial de operandos (o número de argumentos do módulo)\n",
        "\n",
        "   Por exemplo, a expressão \"return max(w+x,x+y)\" tem \"N1=4\" operadores (\"return, max, +,+\"), \"N2=4\" operandos (w, x, x, y), \"mu1=3\" operadores únicos (return, max, +) e \"mu2=3\" operandos únicos (w, x, y).\n",
        "\n",
        "-- **Medidas derivadas**:\n",
        "\n",
        "   -- P = volume = V = N * log2(mu) (o número de comparações mentais necessárias para escrever um programa de comprimento N)\n",
        "\n",
        "   -- V* = volume na implementação mínima\n",
        "         = (2 + mu2')*log2(2 + mu2')\n",
        "   \n",
        "   -- L  = comprimento do programa = V*/N\n",
        "   \n",
        "   -- D  = dificuldade = 1/L\n",
        "   \n",
        "   -- L' = 1/D\n",
        "   \n",
        "   -- I  = inteligência = L'*V'\n",
        "   \n",
        "   -- E  = esforço para escrever o programa = V/L\n",
        "   \n",
        "   -- T  = tempo para escrever o programa = E/18 segundos\n",
        "\n",
        "### Sobre os dados\n",
        "\n",
        "**Número de atributos:** 22 (5 diferentes medidas de linhas de código, 3 métricas de McCabe, 4 medidas básicas de Halstead, 8 medidas derivadas de Halstead, uma contagem de ramos e 1 campo objetivo)\n",
        "\n",
        "\n",
        "\n",
        "1. loc             : numeric % McCabe's line count of code\n",
        "2. v(g)            : numeric % McCabe \"cyclomatic complexity\"\n",
        "3. ev(g)           : numeric % McCabe \"essential complexity\"\n",
        "4. iv(g)           : numeric % McCabe \"design complexity\"\n",
        "5. n               : numeric % Halstead total operators + operands\n",
        "6. v               : numeric % Halstead \"volume\"\n",
        "7. l               : numeric % Halstead \"program length\"\n",
        "8. d               : numeric % Halstead \"difficulty\"\n",
        "9. i               : numeric % Halstead \"intelligence\"\n",
        "0. e               : numeric % Halstead \"effort\"\n",
        "1. b               : numeric % Halstead\n",
        "2. t               : numeric % Halstead's time estimator\n",
        "3. lOCode          : numeric % Halstead's line count\n",
        "4. lOComment       : numeric % Halstead's count of lines of comments\n",
        "5. lOBlank         : numeric % Halstead's count of blank lines\n",
        "6. lOCodeAndComment: numeric\n",
        "7. uniq_Op         : numeric % unique operators\n",
        "8. uniq_Opnd       : numeric % unique operands\n",
        "9. total_Op        : numeric % total operators\n",
        "10. total_Opnd      : numeric % total operands\n",
        "11. branchCount     : numeric % of the flow graph\n",
        "12. defects         : {false,true} % module has/has not one or more\n"
      ],
      "metadata": {
        "id": "G9VUl4dnS7zG"
      }
    },
    {
      "cell_type": "markdown",
      "source": [
        "## Leitura dos dados"
      ],
      "metadata": {
        "id": "-IgdiD8tSEuy"
      }
    },
    {
      "cell_type": "code",
      "source": [
        "train = pd.read_csv(\"https://raw.githubusercontent.com/Heitorcp/scc0287-mineracao-de-dados-nao-estruturados/main/train.csv\", usecols=[*range(1,23)])\n",
        "test = pd.read_csv(\"https://raw.githubusercontent.com/Heitorcp/scc0287-mineracao-de-dados-nao-estruturados/main/test.csv\")\n",
        "sample_submission = pd.read_csv(\"https://raw.githubusercontent.com/Heitorcp/scc0287-mineracao-de-dados-nao-estruturados/main/sample_submission.csv\")"
      ],
      "metadata": {
        "id": "FoT1eP59SGWW"
      },
      "execution_count": null,
      "outputs": []
    },
    {
      "cell_type": "code",
      "source": [
        "def rename_cols(df):\n",
        "  \"\"\"\n",
        "  Rename columns in the dataframe that contain the strings (g)\n",
        "  to replace the (g) with _g.\n",
        "\n",
        "  Args:\n",
        "    df: Pandas DataFrame.\n",
        "\n",
        "  Returns:\n",
        "    Pandas DataFrame with renamed columns.\n",
        "  \"\"\"\n",
        "  df.columns = df.columns.str.replace(r\"\\(g\\)\", \"_g\", regex=True)\n",
        "  return df"
      ],
      "metadata": {
        "id": "M0D547EjoXUW"
      },
      "execution_count": null,
      "outputs": []
    },
    {
      "cell_type": "code",
      "source": [
        "train = rename_cols(train)\n",
        "test = rename_cols(test)"
      ],
      "metadata": {
        "id": "jLcnlRZerSpV"
      },
      "execution_count": null,
      "outputs": []
    },
    {
      "cell_type": "markdown",
      "source": [
        "# Pré-Processamento"
      ],
      "metadata": {
        "id": "aFoC7WQzNGsf"
      }
    },
    {
      "cell_type": "markdown",
      "source": [
        "### Separação do dados em Treino e Validação"
      ],
      "metadata": {
        "id": "QzsPqPk8lPmV"
      }
    },
    {
      "cell_type": "code",
      "source": [
        "X = train.drop('defects', axis=1)\n",
        "y = train['defects']\n",
        "X_train, X_val, y_train, y_val = train_test_split(X, y, test_size=0.2, random_state=42)\n",
        "\n",
        "#Encoding variables\n",
        "y_train = y_train.astype(int)\n",
        "y_val = y_val.astype(int)"
      ],
      "metadata": {
        "id": "acZqPiKVlTS6"
      },
      "execution_count": null,
      "outputs": []
    },
    {
      "cell_type": "markdown",
      "source": [
        "### Verificando valores Nulos"
      ],
      "metadata": {
        "id": "A5BplrY7rVWX"
      }
    },
    {
      "cell_type": "markdown",
      "source": [
        "## Padronização das Features"
      ],
      "metadata": {
        "id": "a1vCNaFmNK3u"
      }
    },
    {
      "cell_type": "markdown",
      "source": [
        "**Aplicando um MinMaxScaler nos dados**"
      ],
      "metadata": {
        "id": "mz9M9d5oYZ-d"
      }
    },
    {
      "cell_type": "code",
      "source": [
        "features = train.columns.drop('defects')\n",
        "scaler = MinMaxScaler()\n",
        "scaler.fit(X_train[features])\n",
        "train_scaled = scaler.transform(X_train[features])\n",
        "val_scaled = scaler.transform(X_val[features])"
      ],
      "metadata": {
        "id": "MkjbQITEUGXm"
      },
      "execution_count": null,
      "outputs": []
    },
    {
      "cell_type": "code",
      "source": [
        "train_scaled_df = pd.DataFrame(train_scaled, columns=features)\n",
        "val_scaled_df = pd.DataFrame(val_scaled, columns=features)"
      ],
      "metadata": {
        "id": "J6aVhAXNYTFa"
      },
      "execution_count": null,
      "outputs": []
    },
    {
      "cell_type": "code",
      "source": [
        "train_scaled_df"
      ],
      "metadata": {
        "colab": {
          "base_uri": "https://localhost:8080/",
          "height": 444
        },
        "id": "2_jyQ5uqYWVy",
        "outputId": "9d244b55-b400-4147-bfc5-3c0de963323b"
      },
      "execution_count": null,
      "outputs": [
        {
          "output_type": "execute_result",
          "data": {
            "text/plain": [
              "            loc       v_g      ev_g      iv_g         n         v         l  \\\n",
              "0      0.009590  0.017370  0.000000  0.012469  0.016823  0.015136  0.059701   \n",
              "1      0.005812  0.004963  0.000000  0.002494  0.004739  0.003731  0.104478   \n",
              "2      0.001744  0.000000  0.000000  0.000000  0.001777  0.001027  0.432836   \n",
              "3      0.002616  0.002481  0.000000  0.002494  0.002962  0.001962  0.283582   \n",
              "4      0.004650  0.004963  0.000000  0.002494  0.004265  0.003138  0.179104   \n",
              "...         ...       ...       ...       ...       ...       ...       ...   \n",
              "81405  0.016565  0.017370  0.012195  0.014963  0.019311  0.018885  0.059701   \n",
              "81406  0.017437  0.017370  0.024390  0.012469  0.018600  0.016629  0.074627   \n",
              "81407  0.004359  0.007444  0.012195  0.000000  0.002962  0.002407  0.194030   \n",
              "81408  0.004650  0.002481  0.000000  0.002494  0.004265  0.003403  0.253731   \n",
              "81409  0.003778  0.002481  0.000000  0.002494  0.003909  0.002590  0.283582   \n",
              "\n",
              "              d         i         e         b         t    lOCode  lOComment  \\\n",
              "0      0.055476  0.055530  0.001011  0.008905  0.001405  0.008144   0.002907   \n",
              "1      0.033309  0.026098  0.000141  0.002226  0.000196  0.005666   0.000000   \n",
              "2      0.008369  0.024992  0.000010  0.000742  0.000014  0.001416   0.000000   \n",
              "3      0.012745  0.031328  0.000036  0.001113  0.000050  0.002479   0.000000   \n",
              "4      0.020182  0.035435  0.000087  0.001855  0.000121  0.004249   0.002907   \n",
              "...         ...       ...       ...       ...       ...       ...        ...   \n",
              "81405  0.062673  0.057233  0.001172  0.011503  0.001630  0.014518   0.008721   \n",
              "81406  0.043950  0.077837  0.000801  0.010019  0.001113  0.014518   0.023256   \n",
              "81407  0.021927  0.023009  0.000053  0.001484  0.000074  0.003895   0.000000   \n",
              "81408  0.013989  0.050054  0.000054  0.002226  0.000075  0.004958   0.000000   \n",
              "81409  0.012721  0.042788  0.000039  0.001484  0.000054  0.003541   0.000000   \n",
              "\n",
              "        lOBlank  locCodeAndComment   uniq_Op  uniq_Opnd  total_Op  total_Opnd  \\\n",
              "0      0.050228           0.000000  0.043902   0.019729  0.015498    0.019199   \n",
              "1      0.009132           0.000000  0.031707   0.008631  0.004613    0.004965   \n",
              "2      0.004566           0.000000  0.012195   0.006165  0.001476    0.002317   \n",
              "3      0.004566           0.000000  0.019512   0.007398  0.002952    0.002979   \n",
              "4      0.009132           0.000000  0.021951   0.011097  0.003875    0.004965   \n",
              "...         ...                ...       ...        ...       ...         ...   \n",
              "81405  0.018265           0.184211  0.043902   0.025894  0.019373    0.021185   \n",
              "81406  0.054795           0.000000  0.041463   0.029593  0.016236    0.022840   \n",
              "81407  0.013699           0.000000  0.026829   0.007398  0.002768    0.003310   \n",
              "81408  0.004566           0.000000  0.021951   0.016030  0.004059    0.004634   \n",
              "81409  0.009132           0.000000  0.019512   0.013564  0.003137    0.004303   \n",
              "\n",
              "       branchCount  \n",
              "0         0.027888  \n",
              "1         0.007968  \n",
              "2         0.000000  \n",
              "3         0.003984  \n",
              "4         0.007968  \n",
              "...            ...  \n",
              "81405     0.027888  \n",
              "81406     0.027888  \n",
              "81407     0.011952  \n",
              "81408     0.003984  \n",
              "81409     0.003984  \n",
              "\n",
              "[81410 rows x 21 columns]"
            ],
            "text/html": [
              "\n",
              "  <div id=\"df-8cc7a717-49b4-42bb-918b-67cc4c310c2d\" class=\"colab-df-container\">\n",
              "    <div>\n",
              "<style scoped>\n",
              "    .dataframe tbody tr th:only-of-type {\n",
              "        vertical-align: middle;\n",
              "    }\n",
              "\n",
              "    .dataframe tbody tr th {\n",
              "        vertical-align: top;\n",
              "    }\n",
              "\n",
              "    .dataframe thead th {\n",
              "        text-align: right;\n",
              "    }\n",
              "</style>\n",
              "<table border=\"1\" class=\"dataframe\">\n",
              "  <thead>\n",
              "    <tr style=\"text-align: right;\">\n",
              "      <th></th>\n",
              "      <th>loc</th>\n",
              "      <th>v_g</th>\n",
              "      <th>ev_g</th>\n",
              "      <th>iv_g</th>\n",
              "      <th>n</th>\n",
              "      <th>v</th>\n",
              "      <th>l</th>\n",
              "      <th>d</th>\n",
              "      <th>i</th>\n",
              "      <th>e</th>\n",
              "      <th>b</th>\n",
              "      <th>t</th>\n",
              "      <th>lOCode</th>\n",
              "      <th>lOComment</th>\n",
              "      <th>lOBlank</th>\n",
              "      <th>locCodeAndComment</th>\n",
              "      <th>uniq_Op</th>\n",
              "      <th>uniq_Opnd</th>\n",
              "      <th>total_Op</th>\n",
              "      <th>total_Opnd</th>\n",
              "      <th>branchCount</th>\n",
              "    </tr>\n",
              "  </thead>\n",
              "  <tbody>\n",
              "    <tr>\n",
              "      <th>0</th>\n",
              "      <td>0.009590</td>\n",
              "      <td>0.017370</td>\n",
              "      <td>0.000000</td>\n",
              "      <td>0.012469</td>\n",
              "      <td>0.016823</td>\n",
              "      <td>0.015136</td>\n",
              "      <td>0.059701</td>\n",
              "      <td>0.055476</td>\n",
              "      <td>0.055530</td>\n",
              "      <td>0.001011</td>\n",
              "      <td>0.008905</td>\n",
              "      <td>0.001405</td>\n",
              "      <td>0.008144</td>\n",
              "      <td>0.002907</td>\n",
              "      <td>0.050228</td>\n",
              "      <td>0.000000</td>\n",
              "      <td>0.043902</td>\n",
              "      <td>0.019729</td>\n",
              "      <td>0.015498</td>\n",
              "      <td>0.019199</td>\n",
              "      <td>0.027888</td>\n",
              "    </tr>\n",
              "    <tr>\n",
              "      <th>1</th>\n",
              "      <td>0.005812</td>\n",
              "      <td>0.004963</td>\n",
              "      <td>0.000000</td>\n",
              "      <td>0.002494</td>\n",
              "      <td>0.004739</td>\n",
              "      <td>0.003731</td>\n",
              "      <td>0.104478</td>\n",
              "      <td>0.033309</td>\n",
              "      <td>0.026098</td>\n",
              "      <td>0.000141</td>\n",
              "      <td>0.002226</td>\n",
              "      <td>0.000196</td>\n",
              "      <td>0.005666</td>\n",
              "      <td>0.000000</td>\n",
              "      <td>0.009132</td>\n",
              "      <td>0.000000</td>\n",
              "      <td>0.031707</td>\n",
              "      <td>0.008631</td>\n",
              "      <td>0.004613</td>\n",
              "      <td>0.004965</td>\n",
              "      <td>0.007968</td>\n",
              "    </tr>\n",
              "    <tr>\n",
              "      <th>2</th>\n",
              "      <td>0.001744</td>\n",
              "      <td>0.000000</td>\n",
              "      <td>0.000000</td>\n",
              "      <td>0.000000</td>\n",
              "      <td>0.001777</td>\n",
              "      <td>0.001027</td>\n",
              "      <td>0.432836</td>\n",
              "      <td>0.008369</td>\n",
              "      <td>0.024992</td>\n",
              "      <td>0.000010</td>\n",
              "      <td>0.000742</td>\n",
              "      <td>0.000014</td>\n",
              "      <td>0.001416</td>\n",
              "      <td>0.000000</td>\n",
              "      <td>0.004566</td>\n",
              "      <td>0.000000</td>\n",
              "      <td>0.012195</td>\n",
              "      <td>0.006165</td>\n",
              "      <td>0.001476</td>\n",
              "      <td>0.002317</td>\n",
              "      <td>0.000000</td>\n",
              "    </tr>\n",
              "    <tr>\n",
              "      <th>3</th>\n",
              "      <td>0.002616</td>\n",
              "      <td>0.002481</td>\n",
              "      <td>0.000000</td>\n",
              "      <td>0.002494</td>\n",
              "      <td>0.002962</td>\n",
              "      <td>0.001962</td>\n",
              "      <td>0.283582</td>\n",
              "      <td>0.012745</td>\n",
              "      <td>0.031328</td>\n",
              "      <td>0.000036</td>\n",
              "      <td>0.001113</td>\n",
              "      <td>0.000050</td>\n",
              "      <td>0.002479</td>\n",
              "      <td>0.000000</td>\n",
              "      <td>0.004566</td>\n",
              "      <td>0.000000</td>\n",
              "      <td>0.019512</td>\n",
              "      <td>0.007398</td>\n",
              "      <td>0.002952</td>\n",
              "      <td>0.002979</td>\n",
              "      <td>0.003984</td>\n",
              "    </tr>\n",
              "    <tr>\n",
              "      <th>4</th>\n",
              "      <td>0.004650</td>\n",
              "      <td>0.004963</td>\n",
              "      <td>0.000000</td>\n",
              "      <td>0.002494</td>\n",
              "      <td>0.004265</td>\n",
              "      <td>0.003138</td>\n",
              "      <td>0.179104</td>\n",
              "      <td>0.020182</td>\n",
              "      <td>0.035435</td>\n",
              "      <td>0.000087</td>\n",
              "      <td>0.001855</td>\n",
              "      <td>0.000121</td>\n",
              "      <td>0.004249</td>\n",
              "      <td>0.002907</td>\n",
              "      <td>0.009132</td>\n",
              "      <td>0.000000</td>\n",
              "      <td>0.021951</td>\n",
              "      <td>0.011097</td>\n",
              "      <td>0.003875</td>\n",
              "      <td>0.004965</td>\n",
              "      <td>0.007968</td>\n",
              "    </tr>\n",
              "    <tr>\n",
              "      <th>...</th>\n",
              "      <td>...</td>\n",
              "      <td>...</td>\n",
              "      <td>...</td>\n",
              "      <td>...</td>\n",
              "      <td>...</td>\n",
              "      <td>...</td>\n",
              "      <td>...</td>\n",
              "      <td>...</td>\n",
              "      <td>...</td>\n",
              "      <td>...</td>\n",
              "      <td>...</td>\n",
              "      <td>...</td>\n",
              "      <td>...</td>\n",
              "      <td>...</td>\n",
              "      <td>...</td>\n",
              "      <td>...</td>\n",
              "      <td>...</td>\n",
              "      <td>...</td>\n",
              "      <td>...</td>\n",
              "      <td>...</td>\n",
              "      <td>...</td>\n",
              "    </tr>\n",
              "    <tr>\n",
              "      <th>81405</th>\n",
              "      <td>0.016565</td>\n",
              "      <td>0.017370</td>\n",
              "      <td>0.012195</td>\n",
              "      <td>0.014963</td>\n",
              "      <td>0.019311</td>\n",
              "      <td>0.018885</td>\n",
              "      <td>0.059701</td>\n",
              "      <td>0.062673</td>\n",
              "      <td>0.057233</td>\n",
              "      <td>0.001172</td>\n",
              "      <td>0.011503</td>\n",
              "      <td>0.001630</td>\n",
              "      <td>0.014518</td>\n",
              "      <td>0.008721</td>\n",
              "      <td>0.018265</td>\n",
              "      <td>0.184211</td>\n",
              "      <td>0.043902</td>\n",
              "      <td>0.025894</td>\n",
              "      <td>0.019373</td>\n",
              "      <td>0.021185</td>\n",
              "      <td>0.027888</td>\n",
              "    </tr>\n",
              "    <tr>\n",
              "      <th>81406</th>\n",
              "      <td>0.017437</td>\n",
              "      <td>0.017370</td>\n",
              "      <td>0.024390</td>\n",
              "      <td>0.012469</td>\n",
              "      <td>0.018600</td>\n",
              "      <td>0.016629</td>\n",
              "      <td>0.074627</td>\n",
              "      <td>0.043950</td>\n",
              "      <td>0.077837</td>\n",
              "      <td>0.000801</td>\n",
              "      <td>0.010019</td>\n",
              "      <td>0.001113</td>\n",
              "      <td>0.014518</td>\n",
              "      <td>0.023256</td>\n",
              "      <td>0.054795</td>\n",
              "      <td>0.000000</td>\n",
              "      <td>0.041463</td>\n",
              "      <td>0.029593</td>\n",
              "      <td>0.016236</td>\n",
              "      <td>0.022840</td>\n",
              "      <td>0.027888</td>\n",
              "    </tr>\n",
              "    <tr>\n",
              "      <th>81407</th>\n",
              "      <td>0.004359</td>\n",
              "      <td>0.007444</td>\n",
              "      <td>0.012195</td>\n",
              "      <td>0.000000</td>\n",
              "      <td>0.002962</td>\n",
              "      <td>0.002407</td>\n",
              "      <td>0.194030</td>\n",
              "      <td>0.021927</td>\n",
              "      <td>0.023009</td>\n",
              "      <td>0.000053</td>\n",
              "      <td>0.001484</td>\n",
              "      <td>0.000074</td>\n",
              "      <td>0.003895</td>\n",
              "      <td>0.000000</td>\n",
              "      <td>0.013699</td>\n",
              "      <td>0.000000</td>\n",
              "      <td>0.026829</td>\n",
              "      <td>0.007398</td>\n",
              "      <td>0.002768</td>\n",
              "      <td>0.003310</td>\n",
              "      <td>0.011952</td>\n",
              "    </tr>\n",
              "    <tr>\n",
              "      <th>81408</th>\n",
              "      <td>0.004650</td>\n",
              "      <td>0.002481</td>\n",
              "      <td>0.000000</td>\n",
              "      <td>0.002494</td>\n",
              "      <td>0.004265</td>\n",
              "      <td>0.003403</td>\n",
              "      <td>0.253731</td>\n",
              "      <td>0.013989</td>\n",
              "      <td>0.050054</td>\n",
              "      <td>0.000054</td>\n",
              "      <td>0.002226</td>\n",
              "      <td>0.000075</td>\n",
              "      <td>0.004958</td>\n",
              "      <td>0.000000</td>\n",
              "      <td>0.004566</td>\n",
              "      <td>0.000000</td>\n",
              "      <td>0.021951</td>\n",
              "      <td>0.016030</td>\n",
              "      <td>0.004059</td>\n",
              "      <td>0.004634</td>\n",
              "      <td>0.003984</td>\n",
              "    </tr>\n",
              "    <tr>\n",
              "      <th>81409</th>\n",
              "      <td>0.003778</td>\n",
              "      <td>0.002481</td>\n",
              "      <td>0.000000</td>\n",
              "      <td>0.002494</td>\n",
              "      <td>0.003909</td>\n",
              "      <td>0.002590</td>\n",
              "      <td>0.283582</td>\n",
              "      <td>0.012721</td>\n",
              "      <td>0.042788</td>\n",
              "      <td>0.000039</td>\n",
              "      <td>0.001484</td>\n",
              "      <td>0.000054</td>\n",
              "      <td>0.003541</td>\n",
              "      <td>0.000000</td>\n",
              "      <td>0.009132</td>\n",
              "      <td>0.000000</td>\n",
              "      <td>0.019512</td>\n",
              "      <td>0.013564</td>\n",
              "      <td>0.003137</td>\n",
              "      <td>0.004303</td>\n",
              "      <td>0.003984</td>\n",
              "    </tr>\n",
              "  </tbody>\n",
              "</table>\n",
              "<p>81410 rows × 21 columns</p>\n",
              "</div>\n",
              "    <div class=\"colab-df-buttons\">\n",
              "\n",
              "  <div class=\"colab-df-container\">\n",
              "    <button class=\"colab-df-convert\" onclick=\"convertToInteractive('df-8cc7a717-49b4-42bb-918b-67cc4c310c2d')\"\n",
              "            title=\"Convert this dataframe to an interactive table.\"\n",
              "            style=\"display:none;\">\n",
              "\n",
              "  <svg xmlns=\"http://www.w3.org/2000/svg\" height=\"24px\" viewBox=\"0 -960 960 960\">\n",
              "    <path d=\"M120-120v-720h720v720H120Zm60-500h600v-160H180v160Zm220 220h160v-160H400v160Zm0 220h160v-160H400v160ZM180-400h160v-160H180v160Zm440 0h160v-160H620v160ZM180-180h160v-160H180v160Zm440 0h160v-160H620v160Z\"/>\n",
              "  </svg>\n",
              "    </button>\n",
              "\n",
              "  <style>\n",
              "    .colab-df-container {\n",
              "      display:flex;\n",
              "      gap: 12px;\n",
              "    }\n",
              "\n",
              "    .colab-df-convert {\n",
              "      background-color: #E8F0FE;\n",
              "      border: none;\n",
              "      border-radius: 50%;\n",
              "      cursor: pointer;\n",
              "      display: none;\n",
              "      fill: #1967D2;\n",
              "      height: 32px;\n",
              "      padding: 0 0 0 0;\n",
              "      width: 32px;\n",
              "    }\n",
              "\n",
              "    .colab-df-convert:hover {\n",
              "      background-color: #E2EBFA;\n",
              "      box-shadow: 0px 1px 2px rgba(60, 64, 67, 0.3), 0px 1px 3px 1px rgba(60, 64, 67, 0.15);\n",
              "      fill: #174EA6;\n",
              "    }\n",
              "\n",
              "    .colab-df-buttons div {\n",
              "      margin-bottom: 4px;\n",
              "    }\n",
              "\n",
              "    [theme=dark] .colab-df-convert {\n",
              "      background-color: #3B4455;\n",
              "      fill: #D2E3FC;\n",
              "    }\n",
              "\n",
              "    [theme=dark] .colab-df-convert:hover {\n",
              "      background-color: #434B5C;\n",
              "      box-shadow: 0px 1px 3px 1px rgba(0, 0, 0, 0.15);\n",
              "      filter: drop-shadow(0px 1px 2px rgba(0, 0, 0, 0.3));\n",
              "      fill: #FFFFFF;\n",
              "    }\n",
              "  </style>\n",
              "\n",
              "    <script>\n",
              "      const buttonEl =\n",
              "        document.querySelector('#df-8cc7a717-49b4-42bb-918b-67cc4c310c2d button.colab-df-convert');\n",
              "      buttonEl.style.display =\n",
              "        google.colab.kernel.accessAllowed ? 'block' : 'none';\n",
              "\n",
              "      async function convertToInteractive(key) {\n",
              "        const element = document.querySelector('#df-8cc7a717-49b4-42bb-918b-67cc4c310c2d');\n",
              "        const dataTable =\n",
              "          await google.colab.kernel.invokeFunction('convertToInteractive',\n",
              "                                                    [key], {});\n",
              "        if (!dataTable) return;\n",
              "\n",
              "        const docLinkHtml = 'Like what you see? Visit the ' +\n",
              "          '<a target=\"_blank\" href=https://colab.research.google.com/notebooks/data_table.ipynb>data table notebook</a>'\n",
              "          + ' to learn more about interactive tables.';\n",
              "        element.innerHTML = '';\n",
              "        dataTable['output_type'] = 'display_data';\n",
              "        await google.colab.output.renderOutput(dataTable, element);\n",
              "        const docLink = document.createElement('div');\n",
              "        docLink.innerHTML = docLinkHtml;\n",
              "        element.appendChild(docLink);\n",
              "      }\n",
              "    </script>\n",
              "  </div>\n",
              "\n",
              "\n",
              "<div id=\"df-0082c94d-0c74-41b5-993d-649e51a43bb2\">\n",
              "  <button class=\"colab-df-quickchart\" onclick=\"quickchart('df-0082c94d-0c74-41b5-993d-649e51a43bb2')\"\n",
              "            title=\"Suggest charts\"\n",
              "            style=\"display:none;\">\n",
              "\n",
              "<svg xmlns=\"http://www.w3.org/2000/svg\" height=\"24px\"viewBox=\"0 0 24 24\"\n",
              "     width=\"24px\">\n",
              "    <g>\n",
              "        <path d=\"M19 3H5c-1.1 0-2 .9-2 2v14c0 1.1.9 2 2 2h14c1.1 0 2-.9 2-2V5c0-1.1-.9-2-2-2zM9 17H7v-7h2v7zm4 0h-2V7h2v10zm4 0h-2v-4h2v4z\"/>\n",
              "    </g>\n",
              "</svg>\n",
              "  </button>\n",
              "\n",
              "<style>\n",
              "  .colab-df-quickchart {\n",
              "      --bg-color: #E8F0FE;\n",
              "      --fill-color: #1967D2;\n",
              "      --hover-bg-color: #E2EBFA;\n",
              "      --hover-fill-color: #174EA6;\n",
              "      --disabled-fill-color: #AAA;\n",
              "      --disabled-bg-color: #DDD;\n",
              "  }\n",
              "\n",
              "  [theme=dark] .colab-df-quickchart {\n",
              "      --bg-color: #3B4455;\n",
              "      --fill-color: #D2E3FC;\n",
              "      --hover-bg-color: #434B5C;\n",
              "      --hover-fill-color: #FFFFFF;\n",
              "      --disabled-bg-color: #3B4455;\n",
              "      --disabled-fill-color: #666;\n",
              "  }\n",
              "\n",
              "  .colab-df-quickchart {\n",
              "    background-color: var(--bg-color);\n",
              "    border: none;\n",
              "    border-radius: 50%;\n",
              "    cursor: pointer;\n",
              "    display: none;\n",
              "    fill: var(--fill-color);\n",
              "    height: 32px;\n",
              "    padding: 0;\n",
              "    width: 32px;\n",
              "  }\n",
              "\n",
              "  .colab-df-quickchart:hover {\n",
              "    background-color: var(--hover-bg-color);\n",
              "    box-shadow: 0 1px 2px rgba(60, 64, 67, 0.3), 0 1px 3px 1px rgba(60, 64, 67, 0.15);\n",
              "    fill: var(--button-hover-fill-color);\n",
              "  }\n",
              "\n",
              "  .colab-df-quickchart-complete:disabled,\n",
              "  .colab-df-quickchart-complete:disabled:hover {\n",
              "    background-color: var(--disabled-bg-color);\n",
              "    fill: var(--disabled-fill-color);\n",
              "    box-shadow: none;\n",
              "  }\n",
              "\n",
              "  .colab-df-spinner {\n",
              "    border: 2px solid var(--fill-color);\n",
              "    border-color: transparent;\n",
              "    border-bottom-color: var(--fill-color);\n",
              "    animation:\n",
              "      spin 1s steps(1) infinite;\n",
              "  }\n",
              "\n",
              "  @keyframes spin {\n",
              "    0% {\n",
              "      border-color: transparent;\n",
              "      border-bottom-color: var(--fill-color);\n",
              "      border-left-color: var(--fill-color);\n",
              "    }\n",
              "    20% {\n",
              "      border-color: transparent;\n",
              "      border-left-color: var(--fill-color);\n",
              "      border-top-color: var(--fill-color);\n",
              "    }\n",
              "    30% {\n",
              "      border-color: transparent;\n",
              "      border-left-color: var(--fill-color);\n",
              "      border-top-color: var(--fill-color);\n",
              "      border-right-color: var(--fill-color);\n",
              "    }\n",
              "    40% {\n",
              "      border-color: transparent;\n",
              "      border-right-color: var(--fill-color);\n",
              "      border-top-color: var(--fill-color);\n",
              "    }\n",
              "    60% {\n",
              "      border-color: transparent;\n",
              "      border-right-color: var(--fill-color);\n",
              "    }\n",
              "    80% {\n",
              "      border-color: transparent;\n",
              "      border-right-color: var(--fill-color);\n",
              "      border-bottom-color: var(--fill-color);\n",
              "    }\n",
              "    90% {\n",
              "      border-color: transparent;\n",
              "      border-bottom-color: var(--fill-color);\n",
              "    }\n",
              "  }\n",
              "</style>\n",
              "\n",
              "  <script>\n",
              "    async function quickchart(key) {\n",
              "      const quickchartButtonEl =\n",
              "        document.querySelector('#' + key + ' button');\n",
              "      quickchartButtonEl.disabled = true;  // To prevent multiple clicks.\n",
              "      quickchartButtonEl.classList.add('colab-df-spinner');\n",
              "      try {\n",
              "        const charts = await google.colab.kernel.invokeFunction(\n",
              "            'suggestCharts', [key], {});\n",
              "      } catch (error) {\n",
              "        console.error('Error during call to suggestCharts:', error);\n",
              "      }\n",
              "      quickchartButtonEl.classList.remove('colab-df-spinner');\n",
              "      quickchartButtonEl.classList.add('colab-df-quickchart-complete');\n",
              "    }\n",
              "    (() => {\n",
              "      let quickchartButtonEl =\n",
              "        document.querySelector('#df-0082c94d-0c74-41b5-993d-649e51a43bb2 button');\n",
              "      quickchartButtonEl.style.display =\n",
              "        google.colab.kernel.accessAllowed ? 'block' : 'none';\n",
              "    })();\n",
              "  </script>\n",
              "</div>\n",
              "\n",
              "  <div id=\"id_dfecf61b-d164-4278-ade7-87e071b07412\">\n",
              "    <style>\n",
              "      .colab-df-generate {\n",
              "        background-color: #E8F0FE;\n",
              "        border: none;\n",
              "        border-radius: 50%;\n",
              "        cursor: pointer;\n",
              "        display: none;\n",
              "        fill: #1967D2;\n",
              "        height: 32px;\n",
              "        padding: 0 0 0 0;\n",
              "        width: 32px;\n",
              "      }\n",
              "\n",
              "      .colab-df-generate:hover {\n",
              "        background-color: #E2EBFA;\n",
              "        box-shadow: 0px 1px 2px rgba(60, 64, 67, 0.3), 0px 1px 3px 1px rgba(60, 64, 67, 0.15);\n",
              "        fill: #174EA6;\n",
              "      }\n",
              "\n",
              "      [theme=dark] .colab-df-generate {\n",
              "        background-color: #3B4455;\n",
              "        fill: #D2E3FC;\n",
              "      }\n",
              "\n",
              "      [theme=dark] .colab-df-generate:hover {\n",
              "        background-color: #434B5C;\n",
              "        box-shadow: 0px 1px 3px 1px rgba(0, 0, 0, 0.15);\n",
              "        filter: drop-shadow(0px 1px 2px rgba(0, 0, 0, 0.3));\n",
              "        fill: #FFFFFF;\n",
              "      }\n",
              "    </style>\n",
              "    <button class=\"colab-df-generate\" onclick=\"generateWithVariable('train_scaled_df')\"\n",
              "            title=\"Generate code using this dataframe.\"\n",
              "            style=\"display:none;\">\n",
              "\n",
              "  <svg xmlns=\"http://www.w3.org/2000/svg\" height=\"24px\"viewBox=\"0 0 24 24\"\n",
              "       width=\"24px\">\n",
              "    <path d=\"M7,19H8.4L18.45,9,17,7.55,7,17.6ZM5,21V16.75L18.45,3.32a2,2,0,0,1,2.83,0l1.4,1.43a1.91,1.91,0,0,1,.58,1.4,1.91,1.91,0,0,1-.58,1.4L9.25,21ZM18.45,9,17,7.55Zm-12,3A5.31,5.31,0,0,0,4.9,8.1,5.31,5.31,0,0,0,1,6.5,5.31,5.31,0,0,0,4.9,4.9,5.31,5.31,0,0,0,6.5,1,5.31,5.31,0,0,0,8.1,4.9,5.31,5.31,0,0,0,12,6.5,5.46,5.46,0,0,0,6.5,12Z\"/>\n",
              "  </svg>\n",
              "    </button>\n",
              "    <script>\n",
              "      (() => {\n",
              "      const buttonEl =\n",
              "        document.querySelector('#id_dfecf61b-d164-4278-ade7-87e071b07412 button.colab-df-generate');\n",
              "      buttonEl.style.display =\n",
              "        google.colab.kernel.accessAllowed ? 'block' : 'none';\n",
              "\n",
              "      buttonEl.onclick = () => {\n",
              "        google.colab.notebook.generateWithVariable('train_scaled_df');\n",
              "      }\n",
              "      })();\n",
              "    </script>\n",
              "  </div>\n",
              "\n",
              "    </div>\n",
              "  </div>\n"
            ],
            "application/vnd.google.colaboratory.intrinsic+json": {
              "type": "dataframe",
              "variable_name": "train_scaled_df"
            }
          },
          "metadata": {},
          "execution_count": 99
        }
      ]
    },
    {
      "cell_type": "markdown",
      "source": [
        "## Seleção de Features"
      ],
      "metadata": {
        "id": "z7fcClHwNNqb"
      }
    },
    {
      "cell_type": "markdown",
      "source": [
        "Como estamos lidando com um problema supervisionado de classificação binária, utilizaremos métodos supervisionados para a seleção de features.\n",
        "\n",
        "Os métodos utilizados serão:\n",
        "1. Método Qui-quadrado\n",
        "2. Recursive Feature Elimination with Cross-Validation"
      ],
      "metadata": {
        "id": "fHshGTJkNPr6"
      }
    },
    {
      "cell_type": "markdown",
      "source": [
        "### Método Qui-quadrado"
      ],
      "metadata": {
        "id": "TJ6j-6Stbqo9"
      }
    },
    {
      "cell_type": "code",
      "source": [
        "def selectBestChi2(X, y) -> list[str]:\n",
        "  chi2_selector = SelectKBest(chi2, k=10) # Selecionando as 10 melhores features\n",
        "  X_chi2 = chi2_selector.fit_transform(X, y)\n",
        "  # Obtendo as features selecionadas\n",
        "  selected_features_chi2 = X.columns[chi2_selector.get_support()]\n",
        "  print(\"Features selecionadas pelo teste qui-quadrado:\", selected_features_chi2)\n",
        "\n",
        "  return selected_features_chi2"
      ],
      "metadata": {
        "id": "0U6x-Kk4bt3h"
      },
      "execution_count": null,
      "outputs": []
    },
    {
      "cell_type": "code",
      "source": [
        "X_train = train_scaled_df\n",
        "selected_features_chi2 = selectBestChi2(X_train, y_train)"
      ],
      "metadata": {
        "colab": {
          "base_uri": "https://localhost:8080/"
        },
        "id": "RvzJkqfLavTb",
        "outputId": "ffa98a59-91ee-4675-e78f-2aac06bf7abd"
      },
      "execution_count": null,
      "outputs": [
        {
          "output_type": "stream",
          "name": "stdout",
          "text": [
            "Features selecionadas pelo teste qui-quadrado: Index(['loc', 'v_g', 'ev_g', 'v', 'l', 'lOComment', 'lOBlank',\n",
            "       'locCodeAndComment', 'total_Opnd', 'branchCount'],\n",
            "      dtype='object')\n"
          ]
        }
      ]
    },
    {
      "cell_type": "markdown",
      "source": [
        "### Método RFE"
      ],
      "metadata": {
        "id": "SPFpWRPScnUR"
      }
    },
    {
      "cell_type": "code",
      "source": [
        "clf_rf = RandomForestClassifier()\n",
        "rfe = RFE(estimator=clf_rf, step=1)\n",
        "rfe = rfe.fit(X_train, y_train)\n",
        "\n",
        "print('Número ótimo de features :', rfe.n_features_)\n",
        "print('Melhores features:', X_train.columns[rfe.support_])"
      ],
      "metadata": {
        "colab": {
          "base_uri": "https://localhost:8080/"
        },
        "id": "MCT0ew--cr4o",
        "outputId": "4444921d-115d-413c-d345-589765b85386"
      },
      "execution_count": null,
      "outputs": [
        {
          "output_type": "stream",
          "name": "stdout",
          "text": [
            "Número ótimo de features : 10\n",
            "Melhores features: Index(['loc', 'n', 'v', 'd', 'i', 'e', 't', 'lOCode', 'total_Op',\n",
            "       'branchCount'],\n",
            "      dtype='object')\n"
          ]
        }
      ]
    },
    {
      "cell_type": "code",
      "source": [
        "rfe_selected_features = X_train.columns[rfe.support_]"
      ],
      "metadata": {
        "id": "st6zwLGojIXK"
      },
      "execution_count": null,
      "outputs": []
    },
    {
      "cell_type": "markdown",
      "source": [
        "# Extração de Padrões e Pós-processamento"
      ],
      "metadata": {
        "id": "1une28xuNUdo"
      }
    },
    {
      "cell_type": "markdown",
      "source": [
        "## Classificação"
      ],
      "metadata": {
        "id": "OqVdJYJ2Nb3T"
      }
    },
    {
      "cell_type": "markdown",
      "source": [
        "A fim de classificar o conjunto de dados, utilizaremos uma regressão Logística como nosso modelo baseline.\n",
        "\n",
        "Em seguida, utilizaremos um Random Forest para a comparação com o modelo baseline."
      ],
      "metadata": {
        "id": "t2ug38TJjUda"
      }
    },
    {
      "cell_type": "code",
      "source": [
        "def evaluate_model(y_true, y_pred):\n",
        "  \"\"\"\n",
        "  Evaluate the model using classification_report.\n",
        "\n",
        "  Args:\n",
        "    y_true: True labels.\n",
        "    y_pred: Predicted labels.\n",
        "\n",
        "  Returns:\n",
        "    Classification report string.\n",
        "  \"\"\"\n",
        "  report = classification_report(y_true, y_pred)\n",
        "  return report"
      ],
      "metadata": {
        "id": "4zDhK49GpYHx"
      },
      "execution_count": null,
      "outputs": []
    },
    {
      "cell_type": "markdown",
      "source": [
        "### Regressão Logística com features selecionadas por Qui-quadrado"
      ],
      "metadata": {
        "id": "ZVL45lc_kHXs"
      }
    },
    {
      "cell_type": "markdown",
      "source": [
        "Utilizamos aqui a biblioteca `statsmodels` para o ajuste do modelo de Regressão Logística pois ela permite que ajustemos o modelo a partir da definição de um modelo MLG para variáveis respostas da família Binomial, o que garante propriedades estatísticas melhores comparado ao método implementado pelo Sklearn.\n",
        "\n",
        "A seleção do limiar de decisão para a classificação dos resultados obtidos pela regressão será feita utilizando o ponto máximo da Curva ROC."
      ],
      "metadata": {
        "id": "OSgeWLq45oVk"
      }
    },
    {
      "cell_type": "code",
      "source": [
        "#dados de treino\n",
        "df_train = train_scaled_df.copy()\n",
        "df_train_chi2 = df_train[selected_features_chi2]\n",
        "df_train['y'] = y_train.values\n",
        "\n",
        "#dados de validação\n",
        "df_val = val_scaled_df.copy()\n",
        "df_val_chi2 = df_val[selected_features_chi2]\n",
        "df_val['y'] = y_val.values"
      ],
      "metadata": {
        "id": "v_rMg2jjkKaI"
      },
      "execution_count": null,
      "outputs": []
    },
    {
      "cell_type": "code",
      "source": [
        "formula = 'y ~ ' + ' + '.join(df_train_chi2.columns)\n",
        "lr_model = smf.glm(formula=formula, data=df_train, family=sm.families.Binomial())\n",
        "result_lr = lr_model.fit()\n",
        "print(result_lr.summary())"
      ],
      "metadata": {
        "colab": {
          "base_uri": "https://localhost:8080/"
        },
        "id": "VLDEnxktnT0G",
        "outputId": "37cc144d-1059-4b11-87d6-1fe876f4ecbb"
      },
      "execution_count": null,
      "outputs": [
        {
          "output_type": "stream",
          "name": "stdout",
          "text": [
            "                 Generalized Linear Model Regression Results                  \n",
            "==============================================================================\n",
            "Dep. Variable:                      y   No. Observations:                81410\n",
            "Model:                            GLM   Df Residuals:                    81399\n",
            "Model Family:                Binomial   Df Model:                           10\n",
            "Link Function:                  Logit   Scale:                          1.0000\n",
            "Method:                          IRLS   Log-Likelihood:                -36956.\n",
            "Date:                Sun, 15 Sep 2024   Deviance:                       73912.\n",
            "Time:                        22:15:49   Pearson chi2:                 1.63e+15\n",
            "No. Iterations:                     7   Pseudo R-squ. (CS):             0.1521\n",
            "Covariance Type:            nonrobust                                         \n",
            "=====================================================================================\n",
            "                        coef    std err          z      P>|z|      [0.025      0.975]\n",
            "-------------------------------------------------------------------------------------\n",
            "Intercept            -1.7655      0.026    -67.109      0.000      -1.817      -1.714\n",
            "loc                  61.7531      1.811     34.105      0.000      58.204      65.302\n",
            "v_g                 -21.3630      3.366     -6.347      0.000     -27.960     -14.766\n",
            "ev_g                 -1.0436      0.588     -1.774      0.076      -2.197       0.110\n",
            "v                   -11.4249      2.155     -5.301      0.000     -15.649      -7.201\n",
            "l                    -2.2629      0.106    -21.336      0.000      -2.471      -2.055\n",
            "lOComment            -0.0890      0.793     -0.112      0.911      -1.642       1.464\n",
            "lOBlank               7.7609      0.625     12.427      0.000       6.537       8.985\n",
            "locCodeAndComment     2.6961      0.360      7.495      0.000       1.991       3.401\n",
            "total_Opnd           -2.2102      2.158     -1.024      0.306      -6.439       2.019\n",
            "branchCount          20.7096      2.416      8.573      0.000      15.975      25.444\n",
            "=====================================================================================\n"
          ]
        }
      ]
    },
    {
      "cell_type": "code",
      "source": [
        "from sklearn.metrics import roc_curve, auc\n",
        "\n",
        "# Predict probabilities\n",
        "y_pred_prob = result_lr.predict(exog=df_val_chi2)\n",
        "\n",
        "# Calculate ROC curve\n",
        "fpr, tpr, thresholds = roc_curve(df_val['y'], y_pred_prob)\n",
        "roc_auc = auc(fpr, tpr)\n",
        "\n",
        "# Find the threshold that maximizes the area under the ROC Curve\n",
        "optimal_idx = np.argmax(tpr - fpr)\n",
        "optimal_threshold = thresholds[optimal_idx]\n",
        "\n",
        "# Classify based on the optimal threshold\n",
        "y_pred = (y_pred_prob >= optimal_threshold).astype(int)\n",
        "\n",
        "# Evaluate the model\n",
        "report = evaluate_model(df_val['y'], y_pred)\n",
        "print(report)"
      ],
      "metadata": {
        "colab": {
          "base_uri": "https://localhost:8080/"
        },
        "id": "Tuq-TX5iqRRj",
        "outputId": "0d4a43ff-5bef-4833-d836-4449049f58a5"
      },
      "execution_count": null,
      "outputs": [
        {
          "output_type": "stream",
          "name": "stdout",
          "text": [
            "              precision    recall  f1-score   support\n",
            "\n",
            "           0       0.89      0.77      0.82     15825\n",
            "           1       0.45      0.66      0.53      4528\n",
            "\n",
            "    accuracy                           0.74     20353\n",
            "   macro avg       0.67      0.71      0.68     20353\n",
            "weighted avg       0.79      0.74      0.76     20353\n",
            "\n"
          ]
        }
      ]
    },
    {
      "cell_type": "markdown",
      "source": [
        "### Regressão Logística com RFE Features"
      ],
      "metadata": {
        "id": "rdGxHDrXtrHX"
      }
    },
    {
      "cell_type": "code",
      "source": [
        "df_train_rfe = df_train[rfe_selected_features]\n",
        "df_val_rfe = df_val[rfe_selected_features]\n",
        "\n",
        "formula = 'y ~ ' + ' + '.join(df_train_rfe.columns)\n",
        "lr_model_rfe = smf.glm(formula=formula, data=df_train, family=sm.families.Binomial())\n",
        "result_lr_rfe = lr_model_rfe.fit()\n",
        "print(result_lr_rfe.summary())"
      ],
      "metadata": {
        "colab": {
          "base_uri": "https://localhost:8080/"
        },
        "id": "0RASoNJxve78",
        "outputId": "77a4642a-197c-429b-bd16-f2fd969ffce7"
      },
      "execution_count": null,
      "outputs": [
        {
          "output_type": "stream",
          "name": "stdout",
          "text": [
            "                 Generalized Linear Model Regression Results                  \n",
            "==============================================================================\n",
            "Dep. Variable:                      y   No. Observations:                81410\n",
            "Model:                            GLM   Df Residuals:                    81399\n",
            "Model Family:                Binomial   Df Model:                           10\n",
            "Link Function:                  Logit   Scale:                          1.0000\n",
            "Method:                          IRLS   Log-Likelihood:                -36920.\n",
            "Date:                Sun, 15 Sep 2024   Deviance:                       73841.\n",
            "Time:                        22:15:55   Pearson chi2:                 9.48e+12\n",
            "No. Iterations:                     7   Pseudo R-squ. (CS):             0.1529\n",
            "Covariance Type:            nonrobust                                         \n",
            "===============================================================================\n",
            "                  coef    std err          z      P>|z|      [0.025      0.975]\n",
            "-------------------------------------------------------------------------------\n",
            "Intercept      -2.6843      0.025   -108.652      0.000      -2.733      -2.636\n",
            "loc            95.4484      1.896     50.339      0.000      91.732      99.165\n",
            "n               0.7065      3.304      0.214      0.831      -5.768       7.181\n",
            "v             -15.2964      2.604     -5.875      0.000     -20.400     -10.193\n",
            "d              10.9772      0.603     18.211      0.000       9.796      12.159\n",
            "i               8.6491      0.457     18.922      0.000       7.753       9.545\n",
            "e              -2.3230      1.886     -1.232      0.218      -6.019       1.374\n",
            "t             -18.7211      1.838    -10.184      0.000     -22.324     -15.118\n",
            "lOCode        -40.3012      3.083    -13.072      0.000     -46.344     -34.258\n",
            "total_Op       -6.8413      3.038     -2.252      0.024     -12.796      -0.887\n",
            "branchCount     8.4006      0.627     13.399      0.000       7.172       9.629\n",
            "===============================================================================\n"
          ]
        }
      ]
    },
    {
      "cell_type": "code",
      "source": [
        "# Predict probabilities\n",
        "y_pred_prob = result_lr_rfe.predict(exog=df_val_rfe)\n",
        "\n",
        "# Calculate ROC curve\n",
        "fpr, tpr, thresholds = roc_curve(df_val['y'], y_pred_prob)\n",
        "roc_auc = auc(fpr, tpr)\n",
        "\n",
        "# Find the threshold that maximizes the area under the ROC Curve\n",
        "optimal_idx = np.argmax(tpr - fpr)\n",
        "optimal_threshold = thresholds[optimal_idx]\n",
        "\n",
        "# Classify based on the optimal threshold\n",
        "y_pred = (y_pred_prob >= optimal_threshold).astype(int)\n",
        "\n",
        "# Evaluate the model\n",
        "report = evaluate_model(df_val['y'], y_pred)\n",
        "print(report)"
      ],
      "metadata": {
        "colab": {
          "base_uri": "https://localhost:8080/"
        },
        "id": "8b4k04tpwAmX",
        "outputId": "71199333-c9a2-4722-8b32-129a015dbbd2"
      },
      "execution_count": null,
      "outputs": [
        {
          "output_type": "stream",
          "name": "stdout",
          "text": [
            "              precision    recall  f1-score   support\n",
            "\n",
            "           0       0.90      0.73      0.81     15825\n",
            "           1       0.43      0.71      0.53      4528\n",
            "\n",
            "    accuracy                           0.73     20353\n",
            "   macro avg       0.66      0.72      0.67     20353\n",
            "weighted avg       0.79      0.73      0.75     20353\n",
            "\n"
          ]
        }
      ]
    },
    {
      "cell_type": "markdown",
      "source": [
        "### Random Forest com Cross-Validation\n",
        "\n"
      ],
      "metadata": {
        "id": "NWli9zJBNfqF"
      }
    },
    {
      "cell_type": "code",
      "source": [
        "from sklearn.model_selection import cross_val_score, KFold\n",
        "\n",
        "rf_model = RandomForestClassifier()\n",
        "cv = KFold(n_splits=3, shuffle=True, random_state=42)\n",
        "scores = cross_val_score(rf_model, df_train_chi2, y_train, cv=cv, scoring='accuracy')\n",
        "print(\"Cross-validation scores:\", scores)\n",
        "print(\"Mean accuracy:\", scores.mean())\n",
        "\n",
        "rf_model.fit(df_train_chi2, y_train)\n",
        "y_pred = rf_model.predict(df_val_chi2)\n",
        "\n",
        "report = evaluate_model(df_val['y'], y_pred)\n",
        "print(report)"
      ],
      "metadata": {
        "colab": {
          "base_uri": "https://localhost:8080/"
        },
        "id": "7xlyXLZN1EIy",
        "outputId": "f042ccb0-1277-45a4-cb39-805abc499e5f"
      },
      "execution_count": null,
      "outputs": [
        {
          "output_type": "stream",
          "name": "stdout",
          "text": [
            "Cross-validation scores: [0.79913034 0.80067804 0.79746462]\n",
            "Mean accuracy: 0.7990910007814994\n",
            "              precision    recall  f1-score   support\n",
            "\n",
            "           0       0.84      0.92      0.88     15825\n",
            "           1       0.58      0.38      0.46      4528\n",
            "\n",
            "    accuracy                           0.80     20353\n",
            "   macro avg       0.71      0.65      0.67     20353\n",
            "weighted avg       0.78      0.80      0.78     20353\n",
            "\n"
          ]
        }
      ]
    },
    {
      "cell_type": "markdown",
      "source": [
        "Um Random Forest, com as features selecionadas pelo método do Qui-quadrado apresentou uma precisão de de 58% para a detecção de softwares com problema, comparado aos 45% da Regressão Logística."
      ],
      "metadata": {
        "id": "6KXSFchT2KB8"
      }
    },
    {
      "cell_type": "markdown",
      "source": [
        "### Classificador KNN"
      ],
      "metadata": {
        "id": "5PJxATTlNiFe"
      }
    },
    {
      "cell_type": "markdown",
      "source": [
        "### Usando as features selecionadas pelo método do Qui-quadrado"
      ],
      "metadata": {
        "id": "JxCuTxEn2m0G"
      }
    },
    {
      "cell_type": "code",
      "source": [
        "from sklearn.model_selection import GridSearchCV\n",
        "\n",
        "# Define the parameter grid for GridSearchCV\n",
        "param_grid = {\n",
        "    'n_neighbors': np.arange(1, 11),\n",
        "    'weights': ['uniform', 'distance'],\n",
        "    'metric': ['euclidean', 'manhattan']\n",
        "}\n",
        "\n",
        "# Create the KNN classifier\n",
        "knn = KNeighborsClassifier()\n",
        "\n",
        "# Create GridSearchCV object\n",
        "grid_search = GridSearchCV(estimator=knn, param_grid=param_grid, cv=3, scoring='accuracy')\n",
        "\n",
        "# Fit the grid search to the data\n",
        "grid_search.fit(df_train_chi2, y_train)\n",
        "\n",
        "# Print the best parameters and best score\n",
        "print(\"Best parameters:\", grid_search.best_params_)\n",
        "print(\"Best score:\", grid_search.best_score_)\n",
        "\n",
        "# Get the best estimator\n",
        "best_knn = grid_search.best_estimator_\n",
        "\n",
        "# Make predictions on the validation set\n",
        "y_pred = best_knn.predict(df_val_chi2)\n",
        "\n",
        "# Evaluate the model\n",
        "report = evaluate_model(df_val['y'], y_pred)\n",
        "print(report)"
      ],
      "metadata": {
        "colab": {
          "base_uri": "https://localhost:8080/"
        },
        "id": "TZCDK-ez2tRD",
        "outputId": "d6f7e423-2b2e-4cb6-8883-f22a403feb25"
      },
      "execution_count": null,
      "outputs": [
        {
          "output_type": "stream",
          "name": "stdout",
          "text": [
            "Best parameters: {'metric': 'euclidean', 'n_neighbors': 10, 'weights': 'uniform'}\n",
            "Best score: 0.8039061233460351\n",
            "              precision    recall  f1-score   support\n",
            "\n",
            "           0       0.83      0.94      0.88     15825\n",
            "           1       0.62      0.33      0.43      4528\n",
            "\n",
            "    accuracy                           0.80     20353\n",
            "   macro avg       0.72      0.63      0.65     20353\n",
            "weighted avg       0.78      0.80      0.78     20353\n",
            "\n"
          ]
        }
      ]
    },
    {
      "cell_type": "markdown",
      "source": [
        "O KMeans apresentou um desempenho superior ao RandomForest, com uma precisão de 62% para a classe positiva."
      ],
      "metadata": {
        "id": "1VV1yZjk5LjU"
      }
    },
    {
      "cell_type": "markdown",
      "source": [
        "## Clustering"
      ],
      "metadata": {
        "id": "6CGDqKZfNkWS"
      }
    },
    {
      "cell_type": "markdown",
      "source": [
        "### K-Means"
      ],
      "metadata": {
        "id": "TbHUHRoTNnE-"
      }
    },
    {
      "cell_type": "code",
      "source": [
        "from sklearn.cluster import KMeans\n",
        "from sklearn.metrics import silhouette_score\n",
        "\n",
        "n_clusters_range = range(2, 11)\n",
        "\n",
        "silhouette_scores = []\n",
        "\n",
        "for n_clusters in n_clusters_range:\n",
        "    kmeans = KMeans(n_clusters=n_clusters, random_state=42)\n",
        "    kmeans.fit(df_train_chi2)\n",
        "    cluster_labels = kmeans.labels_\n",
        "    silhouette_avg = silhouette_score(df_train_chi2, cluster_labels)\n",
        "    silhouette_scores.append(silhouette_avg)\n",
        "\n",
        "best_n_clusters = n_clusters_range[silhouette_scores.index(max(silhouette_scores))]\n",
        "print(\"Melhor # de Clusters:\", best_n_clusters)\n",
        "\n",
        "kmeans = KMeans(n_clusters=best_n_clusters, random_state=42)\n",
        "kmeans.fit(df_train_chi2)"
      ],
      "metadata": {
        "colab": {
          "base_uri": "https://localhost:8080/",
          "height": 459
        },
        "id": "OmEyqL6T_XNz",
        "outputId": "67bf803a-73f3-4b18-985c-2630064fe93f"
      },
      "execution_count": null,
      "outputs": [
        {
          "output_type": "stream",
          "name": "stderr",
          "text": [
            "/usr/local/lib/python3.10/dist-packages/sklearn/cluster/_kmeans.py:1416: FutureWarning: The default value of `n_init` will change from 10 to 'auto' in 1.4. Set the value of `n_init` explicitly to suppress the warning\n",
            "  super()._check_params_vs_input(X, default_n_init=10)\n",
            "/usr/local/lib/python3.10/dist-packages/sklearn/cluster/_kmeans.py:1416: FutureWarning: The default value of `n_init` will change from 10 to 'auto' in 1.4. Set the value of `n_init` explicitly to suppress the warning\n",
            "  super()._check_params_vs_input(X, default_n_init=10)\n",
            "/usr/local/lib/python3.10/dist-packages/sklearn/cluster/_kmeans.py:1416: FutureWarning: The default value of `n_init` will change from 10 to 'auto' in 1.4. Set the value of `n_init` explicitly to suppress the warning\n",
            "  super()._check_params_vs_input(X, default_n_init=10)\n",
            "/usr/local/lib/python3.10/dist-packages/sklearn/cluster/_kmeans.py:1416: FutureWarning: The default value of `n_init` will change from 10 to 'auto' in 1.4. Set the value of `n_init` explicitly to suppress the warning\n",
            "  super()._check_params_vs_input(X, default_n_init=10)\n",
            "/usr/local/lib/python3.10/dist-packages/sklearn/cluster/_kmeans.py:1416: FutureWarning: The default value of `n_init` will change from 10 to 'auto' in 1.4. Set the value of `n_init` explicitly to suppress the warning\n",
            "  super()._check_params_vs_input(X, default_n_init=10)\n",
            "/usr/local/lib/python3.10/dist-packages/sklearn/cluster/_kmeans.py:1416: FutureWarning: The default value of `n_init` will change from 10 to 'auto' in 1.4. Set the value of `n_init` explicitly to suppress the warning\n",
            "  super()._check_params_vs_input(X, default_n_init=10)\n",
            "/usr/local/lib/python3.10/dist-packages/sklearn/cluster/_kmeans.py:1416: FutureWarning: The default value of `n_init` will change from 10 to 'auto' in 1.4. Set the value of `n_init` explicitly to suppress the warning\n",
            "  super()._check_params_vs_input(X, default_n_init=10)\n",
            "/usr/local/lib/python3.10/dist-packages/sklearn/cluster/_kmeans.py:1416: FutureWarning: The default value of `n_init` will change from 10 to 'auto' in 1.4. Set the value of `n_init` explicitly to suppress the warning\n",
            "  super()._check_params_vs_input(X, default_n_init=10)\n",
            "/usr/local/lib/python3.10/dist-packages/sklearn/cluster/_kmeans.py:1416: FutureWarning: The default value of `n_init` will change from 10 to 'auto' in 1.4. Set the value of `n_init` explicitly to suppress the warning\n",
            "  super()._check_params_vs_input(X, default_n_init=10)\n"
          ]
        },
        {
          "output_type": "stream",
          "name": "stdout",
          "text": [
            "Melhor # de Clusters: 2\n"
          ]
        },
        {
          "output_type": "stream",
          "name": "stderr",
          "text": [
            "/usr/local/lib/python3.10/dist-packages/sklearn/cluster/_kmeans.py:1416: FutureWarning: The default value of `n_init` will change from 10 to 'auto' in 1.4. Set the value of `n_init` explicitly to suppress the warning\n",
            "  super()._check_params_vs_input(X, default_n_init=10)\n"
          ]
        },
        {
          "output_type": "execute_result",
          "data": {
            "text/plain": [
              "KMeans(n_clusters=2, random_state=42)"
            ],
            "text/html": [
              "<style>#sk-container-id-1 {color: black;}#sk-container-id-1 pre{padding: 0;}#sk-container-id-1 div.sk-toggleable {background-color: white;}#sk-container-id-1 label.sk-toggleable__label {cursor: pointer;display: block;width: 100%;margin-bottom: 0;padding: 0.3em;box-sizing: border-box;text-align: center;}#sk-container-id-1 label.sk-toggleable__label-arrow:before {content: \"▸\";float: left;margin-right: 0.25em;color: #696969;}#sk-container-id-1 label.sk-toggleable__label-arrow:hover:before {color: black;}#sk-container-id-1 div.sk-estimator:hover label.sk-toggleable__label-arrow:before {color: black;}#sk-container-id-1 div.sk-toggleable__content {max-height: 0;max-width: 0;overflow: hidden;text-align: left;background-color: #f0f8ff;}#sk-container-id-1 div.sk-toggleable__content pre {margin: 0.2em;color: black;border-radius: 0.25em;background-color: #f0f8ff;}#sk-container-id-1 input.sk-toggleable__control:checked~div.sk-toggleable__content {max-height: 200px;max-width: 100%;overflow: auto;}#sk-container-id-1 input.sk-toggleable__control:checked~label.sk-toggleable__label-arrow:before {content: \"▾\";}#sk-container-id-1 div.sk-estimator input.sk-toggleable__control:checked~label.sk-toggleable__label {background-color: #d4ebff;}#sk-container-id-1 div.sk-label input.sk-toggleable__control:checked~label.sk-toggleable__label {background-color: #d4ebff;}#sk-container-id-1 input.sk-hidden--visually {border: 0;clip: rect(1px 1px 1px 1px);clip: rect(1px, 1px, 1px, 1px);height: 1px;margin: -1px;overflow: hidden;padding: 0;position: absolute;width: 1px;}#sk-container-id-1 div.sk-estimator {font-family: monospace;background-color: #f0f8ff;border: 1px dotted black;border-radius: 0.25em;box-sizing: border-box;margin-bottom: 0.5em;}#sk-container-id-1 div.sk-estimator:hover {background-color: #d4ebff;}#sk-container-id-1 div.sk-parallel-item::after {content: \"\";width: 100%;border-bottom: 1px solid gray;flex-grow: 1;}#sk-container-id-1 div.sk-label:hover label.sk-toggleable__label {background-color: #d4ebff;}#sk-container-id-1 div.sk-serial::before {content: \"\";position: absolute;border-left: 1px solid gray;box-sizing: border-box;top: 0;bottom: 0;left: 50%;z-index: 0;}#sk-container-id-1 div.sk-serial {display: flex;flex-direction: column;align-items: center;background-color: white;padding-right: 0.2em;padding-left: 0.2em;position: relative;}#sk-container-id-1 div.sk-item {position: relative;z-index: 1;}#sk-container-id-1 div.sk-parallel {display: flex;align-items: stretch;justify-content: center;background-color: white;position: relative;}#sk-container-id-1 div.sk-item::before, #sk-container-id-1 div.sk-parallel-item::before {content: \"\";position: absolute;border-left: 1px solid gray;box-sizing: border-box;top: 0;bottom: 0;left: 50%;z-index: -1;}#sk-container-id-1 div.sk-parallel-item {display: flex;flex-direction: column;z-index: 1;position: relative;background-color: white;}#sk-container-id-1 div.sk-parallel-item:first-child::after {align-self: flex-end;width: 50%;}#sk-container-id-1 div.sk-parallel-item:last-child::after {align-self: flex-start;width: 50%;}#sk-container-id-1 div.sk-parallel-item:only-child::after {width: 0;}#sk-container-id-1 div.sk-dashed-wrapped {border: 1px dashed gray;margin: 0 0.4em 0.5em 0.4em;box-sizing: border-box;padding-bottom: 0.4em;background-color: white;}#sk-container-id-1 div.sk-label label {font-family: monospace;font-weight: bold;display: inline-block;line-height: 1.2em;}#sk-container-id-1 div.sk-label-container {text-align: center;}#sk-container-id-1 div.sk-container {/* jupyter's `normalize.less` sets `[hidden] { display: none; }` but bootstrap.min.css set `[hidden] { display: none !important; }` so we also need the `!important` here to be able to override the default hidden behavior on the sphinx rendered scikit-learn.org. See: https://github.com/scikit-learn/scikit-learn/issues/21755 */display: inline-block !important;position: relative;}#sk-container-id-1 div.sk-text-repr-fallback {display: none;}</style><div id=\"sk-container-id-1\" class=\"sk-top-container\"><div class=\"sk-text-repr-fallback\"><pre>KMeans(n_clusters=2, random_state=42)</pre><b>In a Jupyter environment, please rerun this cell to show the HTML representation or trust the notebook. <br />On GitHub, the HTML representation is unable to render, please try loading this page with nbviewer.org.</b></div><div class=\"sk-container\" hidden><div class=\"sk-item\"><div class=\"sk-estimator sk-toggleable\"><input class=\"sk-toggleable__control sk-hidden--visually\" id=\"sk-estimator-id-1\" type=\"checkbox\" checked><label for=\"sk-estimator-id-1\" class=\"sk-toggleable__label sk-toggleable__label-arrow\">KMeans</label><div class=\"sk-toggleable__content\"><pre>KMeans(n_clusters=2, random_state=42)</pre></div></div></div></div></div>"
            ]
          },
          "metadata": {},
          "execution_count": 149
        }
      ]
    },
    {
      "cell_type": "markdown",
      "source": [
        "### Avaliação de Qualidade"
      ],
      "metadata": {
        "id": "K85_WvKMNpXK"
      }
    },
    {
      "cell_type": "code",
      "source": [
        "df_train_chi2.loc[:, 'cluster'] = kmeans.labels_\n",
        "df_val_chi2.loc[:,'cluster'] = kmeans.predict(df_val_chi2)"
      ],
      "metadata": {
        "colab": {
          "base_uri": "https://localhost:8080/"
        },
        "id": "64RnkZIuNrIt",
        "outputId": "3c5bb477-1fa4-4652-916e-312979754e17"
      },
      "execution_count": null,
      "outputs": [
        {
          "output_type": "stream",
          "name": "stderr",
          "text": [
            "<ipython-input-155-4b36c199c4e1>:1: SettingWithCopyWarning: \n",
            "A value is trying to be set on a copy of a slice from a DataFrame.\n",
            "Try using .loc[row_indexer,col_indexer] = value instead\n",
            "\n",
            "See the caveats in the documentation: https://pandas.pydata.org/pandas-docs/stable/user_guide/indexing.html#returning-a-view-versus-a-copy\n",
            "  df_train_chi2.loc[:, 'cluster'] = kmeans.labels_\n",
            "<ipython-input-155-4b36c199c4e1>:2: SettingWithCopyWarning: \n",
            "A value is trying to be set on a copy of a slice from a DataFrame.\n",
            "Try using .loc[row_indexer,col_indexer] = value instead\n",
            "\n",
            "See the caveats in the documentation: https://pandas.pydata.org/pandas-docs/stable/user_guide/indexing.html#returning-a-view-versus-a-copy\n",
            "  df_val_chi2.loc[:,'cluster'] = kmeans.predict(df_val_chi2)\n"
          ]
        }
      ]
    },
    {
      "cell_type": "code",
      "source": [
        "df_train_chi2"
      ],
      "metadata": {
        "colab": {
          "base_uri": "https://localhost:8080/",
          "height": 424
        },
        "id": "lrzRjXGrFscR",
        "outputId": "10504772-b6c2-4ee7-dfa6-5817012f924c"
      },
      "execution_count": null,
      "outputs": [
        {
          "output_type": "execute_result",
          "data": {
            "text/plain": [
              "            loc       v_g      ev_g         v         l  lOComment   lOBlank  \\\n",
              "0      0.009590  0.017370  0.000000  0.015136  0.059701   0.002907  0.050228   \n",
              "1      0.005812  0.004963  0.000000  0.003731  0.104478   0.000000  0.009132   \n",
              "2      0.001744  0.000000  0.000000  0.001027  0.432836   0.000000  0.004566   \n",
              "3      0.002616  0.002481  0.000000  0.001962  0.283582   0.000000  0.004566   \n",
              "4      0.004650  0.004963  0.000000  0.003138  0.179104   0.002907  0.009132   \n",
              "...         ...       ...       ...       ...       ...        ...       ...   \n",
              "81405  0.016565  0.017370  0.012195  0.018885  0.059701   0.008721  0.018265   \n",
              "81406  0.017437  0.017370  0.024390  0.016629  0.074627   0.023256  0.054795   \n",
              "81407  0.004359  0.007444  0.012195  0.002407  0.194030   0.000000  0.013699   \n",
              "81408  0.004650  0.002481  0.000000  0.003403  0.253731   0.000000  0.004566   \n",
              "81409  0.003778  0.002481  0.000000  0.002590  0.283582   0.000000  0.009132   \n",
              "\n",
              "       locCodeAndComment  total_Opnd  branchCount  cluster  \n",
              "0               0.000000    0.019199     0.027888        0  \n",
              "1               0.000000    0.004965     0.007968        0  \n",
              "2               0.000000    0.002317     0.000000        1  \n",
              "3               0.000000    0.002979     0.003984        1  \n",
              "4               0.000000    0.004965     0.007968        0  \n",
              "...                  ...         ...          ...      ...  \n",
              "81405           0.184211    0.021185     0.027888        0  \n",
              "81406           0.000000    0.022840     0.027888        0  \n",
              "81407           0.000000    0.003310     0.011952        0  \n",
              "81408           0.000000    0.004634     0.003984        0  \n",
              "81409           0.000000    0.004303     0.003984        1  \n",
              "\n",
              "[81410 rows x 11 columns]"
            ],
            "text/html": [
              "\n",
              "  <div id=\"df-1543d9e7-ab94-4963-bc72-4d11f377524d\" class=\"colab-df-container\">\n",
              "    <div>\n",
              "<style scoped>\n",
              "    .dataframe tbody tr th:only-of-type {\n",
              "        vertical-align: middle;\n",
              "    }\n",
              "\n",
              "    .dataframe tbody tr th {\n",
              "        vertical-align: top;\n",
              "    }\n",
              "\n",
              "    .dataframe thead th {\n",
              "        text-align: right;\n",
              "    }\n",
              "</style>\n",
              "<table border=\"1\" class=\"dataframe\">\n",
              "  <thead>\n",
              "    <tr style=\"text-align: right;\">\n",
              "      <th></th>\n",
              "      <th>loc</th>\n",
              "      <th>v_g</th>\n",
              "      <th>ev_g</th>\n",
              "      <th>v</th>\n",
              "      <th>l</th>\n",
              "      <th>lOComment</th>\n",
              "      <th>lOBlank</th>\n",
              "      <th>locCodeAndComment</th>\n",
              "      <th>total_Opnd</th>\n",
              "      <th>branchCount</th>\n",
              "      <th>cluster</th>\n",
              "    </tr>\n",
              "  </thead>\n",
              "  <tbody>\n",
              "    <tr>\n",
              "      <th>0</th>\n",
              "      <td>0.009590</td>\n",
              "      <td>0.017370</td>\n",
              "      <td>0.000000</td>\n",
              "      <td>0.015136</td>\n",
              "      <td>0.059701</td>\n",
              "      <td>0.002907</td>\n",
              "      <td>0.050228</td>\n",
              "      <td>0.000000</td>\n",
              "      <td>0.019199</td>\n",
              "      <td>0.027888</td>\n",
              "      <td>0</td>\n",
              "    </tr>\n",
              "    <tr>\n",
              "      <th>1</th>\n",
              "      <td>0.005812</td>\n",
              "      <td>0.004963</td>\n",
              "      <td>0.000000</td>\n",
              "      <td>0.003731</td>\n",
              "      <td>0.104478</td>\n",
              "      <td>0.000000</td>\n",
              "      <td>0.009132</td>\n",
              "      <td>0.000000</td>\n",
              "      <td>0.004965</td>\n",
              "      <td>0.007968</td>\n",
              "      <td>0</td>\n",
              "    </tr>\n",
              "    <tr>\n",
              "      <th>2</th>\n",
              "      <td>0.001744</td>\n",
              "      <td>0.000000</td>\n",
              "      <td>0.000000</td>\n",
              "      <td>0.001027</td>\n",
              "      <td>0.432836</td>\n",
              "      <td>0.000000</td>\n",
              "      <td>0.004566</td>\n",
              "      <td>0.000000</td>\n",
              "      <td>0.002317</td>\n",
              "      <td>0.000000</td>\n",
              "      <td>1</td>\n",
              "    </tr>\n",
              "    <tr>\n",
              "      <th>3</th>\n",
              "      <td>0.002616</td>\n",
              "      <td>0.002481</td>\n",
              "      <td>0.000000</td>\n",
              "      <td>0.001962</td>\n",
              "      <td>0.283582</td>\n",
              "      <td>0.000000</td>\n",
              "      <td>0.004566</td>\n",
              "      <td>0.000000</td>\n",
              "      <td>0.002979</td>\n",
              "      <td>0.003984</td>\n",
              "      <td>1</td>\n",
              "    </tr>\n",
              "    <tr>\n",
              "      <th>4</th>\n",
              "      <td>0.004650</td>\n",
              "      <td>0.004963</td>\n",
              "      <td>0.000000</td>\n",
              "      <td>0.003138</td>\n",
              "      <td>0.179104</td>\n",
              "      <td>0.002907</td>\n",
              "      <td>0.009132</td>\n",
              "      <td>0.000000</td>\n",
              "      <td>0.004965</td>\n",
              "      <td>0.007968</td>\n",
              "      <td>0</td>\n",
              "    </tr>\n",
              "    <tr>\n",
              "      <th>...</th>\n",
              "      <td>...</td>\n",
              "      <td>...</td>\n",
              "      <td>...</td>\n",
              "      <td>...</td>\n",
              "      <td>...</td>\n",
              "      <td>...</td>\n",
              "      <td>...</td>\n",
              "      <td>...</td>\n",
              "      <td>...</td>\n",
              "      <td>...</td>\n",
              "      <td>...</td>\n",
              "    </tr>\n",
              "    <tr>\n",
              "      <th>81405</th>\n",
              "      <td>0.016565</td>\n",
              "      <td>0.017370</td>\n",
              "      <td>0.012195</td>\n",
              "      <td>0.018885</td>\n",
              "      <td>0.059701</td>\n",
              "      <td>0.008721</td>\n",
              "      <td>0.018265</td>\n",
              "      <td>0.184211</td>\n",
              "      <td>0.021185</td>\n",
              "      <td>0.027888</td>\n",
              "      <td>0</td>\n",
              "    </tr>\n",
              "    <tr>\n",
              "      <th>81406</th>\n",
              "      <td>0.017437</td>\n",
              "      <td>0.017370</td>\n",
              "      <td>0.024390</td>\n",
              "      <td>0.016629</td>\n",
              "      <td>0.074627</td>\n",
              "      <td>0.023256</td>\n",
              "      <td>0.054795</td>\n",
              "      <td>0.000000</td>\n",
              "      <td>0.022840</td>\n",
              "      <td>0.027888</td>\n",
              "      <td>0</td>\n",
              "    </tr>\n",
              "    <tr>\n",
              "      <th>81407</th>\n",
              "      <td>0.004359</td>\n",
              "      <td>0.007444</td>\n",
              "      <td>0.012195</td>\n",
              "      <td>0.002407</td>\n",
              "      <td>0.194030</td>\n",
              "      <td>0.000000</td>\n",
              "      <td>0.013699</td>\n",
              "      <td>0.000000</td>\n",
              "      <td>0.003310</td>\n",
              "      <td>0.011952</td>\n",
              "      <td>0</td>\n",
              "    </tr>\n",
              "    <tr>\n",
              "      <th>81408</th>\n",
              "      <td>0.004650</td>\n",
              "      <td>0.002481</td>\n",
              "      <td>0.000000</td>\n",
              "      <td>0.003403</td>\n",
              "      <td>0.253731</td>\n",
              "      <td>0.000000</td>\n",
              "      <td>0.004566</td>\n",
              "      <td>0.000000</td>\n",
              "      <td>0.004634</td>\n",
              "      <td>0.003984</td>\n",
              "      <td>0</td>\n",
              "    </tr>\n",
              "    <tr>\n",
              "      <th>81409</th>\n",
              "      <td>0.003778</td>\n",
              "      <td>0.002481</td>\n",
              "      <td>0.000000</td>\n",
              "      <td>0.002590</td>\n",
              "      <td>0.283582</td>\n",
              "      <td>0.000000</td>\n",
              "      <td>0.009132</td>\n",
              "      <td>0.000000</td>\n",
              "      <td>0.004303</td>\n",
              "      <td>0.003984</td>\n",
              "      <td>1</td>\n",
              "    </tr>\n",
              "  </tbody>\n",
              "</table>\n",
              "<p>81410 rows × 11 columns</p>\n",
              "</div>\n",
              "    <div class=\"colab-df-buttons\">\n",
              "\n",
              "  <div class=\"colab-df-container\">\n",
              "    <button class=\"colab-df-convert\" onclick=\"convertToInteractive('df-1543d9e7-ab94-4963-bc72-4d11f377524d')\"\n",
              "            title=\"Convert this dataframe to an interactive table.\"\n",
              "            style=\"display:none;\">\n",
              "\n",
              "  <svg xmlns=\"http://www.w3.org/2000/svg\" height=\"24px\" viewBox=\"0 -960 960 960\">\n",
              "    <path d=\"M120-120v-720h720v720H120Zm60-500h600v-160H180v160Zm220 220h160v-160H400v160Zm0 220h160v-160H400v160ZM180-400h160v-160H180v160Zm440 0h160v-160H620v160ZM180-180h160v-160H180v160Zm440 0h160v-160H620v160Z\"/>\n",
              "  </svg>\n",
              "    </button>\n",
              "\n",
              "  <style>\n",
              "    .colab-df-container {\n",
              "      display:flex;\n",
              "      gap: 12px;\n",
              "    }\n",
              "\n",
              "    .colab-df-convert {\n",
              "      background-color: #E8F0FE;\n",
              "      border: none;\n",
              "      border-radius: 50%;\n",
              "      cursor: pointer;\n",
              "      display: none;\n",
              "      fill: #1967D2;\n",
              "      height: 32px;\n",
              "      padding: 0 0 0 0;\n",
              "      width: 32px;\n",
              "    }\n",
              "\n",
              "    .colab-df-convert:hover {\n",
              "      background-color: #E2EBFA;\n",
              "      box-shadow: 0px 1px 2px rgba(60, 64, 67, 0.3), 0px 1px 3px 1px rgba(60, 64, 67, 0.15);\n",
              "      fill: #174EA6;\n",
              "    }\n",
              "\n",
              "    .colab-df-buttons div {\n",
              "      margin-bottom: 4px;\n",
              "    }\n",
              "\n",
              "    [theme=dark] .colab-df-convert {\n",
              "      background-color: #3B4455;\n",
              "      fill: #D2E3FC;\n",
              "    }\n",
              "\n",
              "    [theme=dark] .colab-df-convert:hover {\n",
              "      background-color: #434B5C;\n",
              "      box-shadow: 0px 1px 3px 1px rgba(0, 0, 0, 0.15);\n",
              "      filter: drop-shadow(0px 1px 2px rgba(0, 0, 0, 0.3));\n",
              "      fill: #FFFFFF;\n",
              "    }\n",
              "  </style>\n",
              "\n",
              "    <script>\n",
              "      const buttonEl =\n",
              "        document.querySelector('#df-1543d9e7-ab94-4963-bc72-4d11f377524d button.colab-df-convert');\n",
              "      buttonEl.style.display =\n",
              "        google.colab.kernel.accessAllowed ? 'block' : 'none';\n",
              "\n",
              "      async function convertToInteractive(key) {\n",
              "        const element = document.querySelector('#df-1543d9e7-ab94-4963-bc72-4d11f377524d');\n",
              "        const dataTable =\n",
              "          await google.colab.kernel.invokeFunction('convertToInteractive',\n",
              "                                                    [key], {});\n",
              "        if (!dataTable) return;\n",
              "\n",
              "        const docLinkHtml = 'Like what you see? Visit the ' +\n",
              "          '<a target=\"_blank\" href=https://colab.research.google.com/notebooks/data_table.ipynb>data table notebook</a>'\n",
              "          + ' to learn more about interactive tables.';\n",
              "        element.innerHTML = '';\n",
              "        dataTable['output_type'] = 'display_data';\n",
              "        await google.colab.output.renderOutput(dataTable, element);\n",
              "        const docLink = document.createElement('div');\n",
              "        docLink.innerHTML = docLinkHtml;\n",
              "        element.appendChild(docLink);\n",
              "      }\n",
              "    </script>\n",
              "  </div>\n",
              "\n",
              "\n",
              "<div id=\"df-9f25d9b5-b24d-4170-93ca-4e7e964f42af\">\n",
              "  <button class=\"colab-df-quickchart\" onclick=\"quickchart('df-9f25d9b5-b24d-4170-93ca-4e7e964f42af')\"\n",
              "            title=\"Suggest charts\"\n",
              "            style=\"display:none;\">\n",
              "\n",
              "<svg xmlns=\"http://www.w3.org/2000/svg\" height=\"24px\"viewBox=\"0 0 24 24\"\n",
              "     width=\"24px\">\n",
              "    <g>\n",
              "        <path d=\"M19 3H5c-1.1 0-2 .9-2 2v14c0 1.1.9 2 2 2h14c1.1 0 2-.9 2-2V5c0-1.1-.9-2-2-2zM9 17H7v-7h2v7zm4 0h-2V7h2v10zm4 0h-2v-4h2v4z\"/>\n",
              "    </g>\n",
              "</svg>\n",
              "  </button>\n",
              "\n",
              "<style>\n",
              "  .colab-df-quickchart {\n",
              "      --bg-color: #E8F0FE;\n",
              "      --fill-color: #1967D2;\n",
              "      --hover-bg-color: #E2EBFA;\n",
              "      --hover-fill-color: #174EA6;\n",
              "      --disabled-fill-color: #AAA;\n",
              "      --disabled-bg-color: #DDD;\n",
              "  }\n",
              "\n",
              "  [theme=dark] .colab-df-quickchart {\n",
              "      --bg-color: #3B4455;\n",
              "      --fill-color: #D2E3FC;\n",
              "      --hover-bg-color: #434B5C;\n",
              "      --hover-fill-color: #FFFFFF;\n",
              "      --disabled-bg-color: #3B4455;\n",
              "      --disabled-fill-color: #666;\n",
              "  }\n",
              "\n",
              "  .colab-df-quickchart {\n",
              "    background-color: var(--bg-color);\n",
              "    border: none;\n",
              "    border-radius: 50%;\n",
              "    cursor: pointer;\n",
              "    display: none;\n",
              "    fill: var(--fill-color);\n",
              "    height: 32px;\n",
              "    padding: 0;\n",
              "    width: 32px;\n",
              "  }\n",
              "\n",
              "  .colab-df-quickchart:hover {\n",
              "    background-color: var(--hover-bg-color);\n",
              "    box-shadow: 0 1px 2px rgba(60, 64, 67, 0.3), 0 1px 3px 1px rgba(60, 64, 67, 0.15);\n",
              "    fill: var(--button-hover-fill-color);\n",
              "  }\n",
              "\n",
              "  .colab-df-quickchart-complete:disabled,\n",
              "  .colab-df-quickchart-complete:disabled:hover {\n",
              "    background-color: var(--disabled-bg-color);\n",
              "    fill: var(--disabled-fill-color);\n",
              "    box-shadow: none;\n",
              "  }\n",
              "\n",
              "  .colab-df-spinner {\n",
              "    border: 2px solid var(--fill-color);\n",
              "    border-color: transparent;\n",
              "    border-bottom-color: var(--fill-color);\n",
              "    animation:\n",
              "      spin 1s steps(1) infinite;\n",
              "  }\n",
              "\n",
              "  @keyframes spin {\n",
              "    0% {\n",
              "      border-color: transparent;\n",
              "      border-bottom-color: var(--fill-color);\n",
              "      border-left-color: var(--fill-color);\n",
              "    }\n",
              "    20% {\n",
              "      border-color: transparent;\n",
              "      border-left-color: var(--fill-color);\n",
              "      border-top-color: var(--fill-color);\n",
              "    }\n",
              "    30% {\n",
              "      border-color: transparent;\n",
              "      border-left-color: var(--fill-color);\n",
              "      border-top-color: var(--fill-color);\n",
              "      border-right-color: var(--fill-color);\n",
              "    }\n",
              "    40% {\n",
              "      border-color: transparent;\n",
              "      border-right-color: var(--fill-color);\n",
              "      border-top-color: var(--fill-color);\n",
              "    }\n",
              "    60% {\n",
              "      border-color: transparent;\n",
              "      border-right-color: var(--fill-color);\n",
              "    }\n",
              "    80% {\n",
              "      border-color: transparent;\n",
              "      border-right-color: var(--fill-color);\n",
              "      border-bottom-color: var(--fill-color);\n",
              "    }\n",
              "    90% {\n",
              "      border-color: transparent;\n",
              "      border-bottom-color: var(--fill-color);\n",
              "    }\n",
              "  }\n",
              "</style>\n",
              "\n",
              "  <script>\n",
              "    async function quickchart(key) {\n",
              "      const quickchartButtonEl =\n",
              "        document.querySelector('#' + key + ' button');\n",
              "      quickchartButtonEl.disabled = true;  // To prevent multiple clicks.\n",
              "      quickchartButtonEl.classList.add('colab-df-spinner');\n",
              "      try {\n",
              "        const charts = await google.colab.kernel.invokeFunction(\n",
              "            'suggestCharts', [key], {});\n",
              "      } catch (error) {\n",
              "        console.error('Error during call to suggestCharts:', error);\n",
              "      }\n",
              "      quickchartButtonEl.classList.remove('colab-df-spinner');\n",
              "      quickchartButtonEl.classList.add('colab-df-quickchart-complete');\n",
              "    }\n",
              "    (() => {\n",
              "      let quickchartButtonEl =\n",
              "        document.querySelector('#df-9f25d9b5-b24d-4170-93ca-4e7e964f42af button');\n",
              "      quickchartButtonEl.style.display =\n",
              "        google.colab.kernel.accessAllowed ? 'block' : 'none';\n",
              "    })();\n",
              "  </script>\n",
              "</div>\n",
              "\n",
              "  <div id=\"id_923855fc-89bd-47f1-a25a-86fa56f635fe\">\n",
              "    <style>\n",
              "      .colab-df-generate {\n",
              "        background-color: #E8F0FE;\n",
              "        border: none;\n",
              "        border-radius: 50%;\n",
              "        cursor: pointer;\n",
              "        display: none;\n",
              "        fill: #1967D2;\n",
              "        height: 32px;\n",
              "        padding: 0 0 0 0;\n",
              "        width: 32px;\n",
              "      }\n",
              "\n",
              "      .colab-df-generate:hover {\n",
              "        background-color: #E2EBFA;\n",
              "        box-shadow: 0px 1px 2px rgba(60, 64, 67, 0.3), 0px 1px 3px 1px rgba(60, 64, 67, 0.15);\n",
              "        fill: #174EA6;\n",
              "      }\n",
              "\n",
              "      [theme=dark] .colab-df-generate {\n",
              "        background-color: #3B4455;\n",
              "        fill: #D2E3FC;\n",
              "      }\n",
              "\n",
              "      [theme=dark] .colab-df-generate:hover {\n",
              "        background-color: #434B5C;\n",
              "        box-shadow: 0px 1px 3px 1px rgba(0, 0, 0, 0.15);\n",
              "        filter: drop-shadow(0px 1px 2px rgba(0, 0, 0, 0.3));\n",
              "        fill: #FFFFFF;\n",
              "      }\n",
              "    </style>\n",
              "    <button class=\"colab-df-generate\" onclick=\"generateWithVariable('df_train_chi2')\"\n",
              "            title=\"Generate code using this dataframe.\"\n",
              "            style=\"display:none;\">\n",
              "\n",
              "  <svg xmlns=\"http://www.w3.org/2000/svg\" height=\"24px\"viewBox=\"0 0 24 24\"\n",
              "       width=\"24px\">\n",
              "    <path d=\"M7,19H8.4L18.45,9,17,7.55,7,17.6ZM5,21V16.75L18.45,3.32a2,2,0,0,1,2.83,0l1.4,1.43a1.91,1.91,0,0,1,.58,1.4,1.91,1.91,0,0,1-.58,1.4L9.25,21ZM18.45,9,17,7.55Zm-12,3A5.31,5.31,0,0,0,4.9,8.1,5.31,5.31,0,0,0,1,6.5,5.31,5.31,0,0,0,4.9,4.9,5.31,5.31,0,0,0,6.5,1,5.31,5.31,0,0,0,8.1,4.9,5.31,5.31,0,0,0,12,6.5,5.46,5.46,0,0,0,6.5,12Z\"/>\n",
              "  </svg>\n",
              "    </button>\n",
              "    <script>\n",
              "      (() => {\n",
              "      const buttonEl =\n",
              "        document.querySelector('#id_923855fc-89bd-47f1-a25a-86fa56f635fe button.colab-df-generate');\n",
              "      buttonEl.style.display =\n",
              "        google.colab.kernel.accessAllowed ? 'block' : 'none';\n",
              "\n",
              "      buttonEl.onclick = () => {\n",
              "        google.colab.notebook.generateWithVariable('df_train_chi2');\n",
              "      }\n",
              "      })();\n",
              "    </script>\n",
              "  </div>\n",
              "\n",
              "    </div>\n",
              "  </div>\n"
            ],
            "application/vnd.google.colaboratory.intrinsic+json": {
              "type": "dataframe",
              "variable_name": "df_train_chi2",
              "summary": "{\n  \"name\": \"df_train_chi2\",\n  \"rows\": 81410,\n  \"fields\": [\n    {\n      \"column\": \"loc\",\n      \"properties\": {\n        \"dtype\": \"number\",\n        \"std\": 0.01573850688411115,\n        \"min\": 0.0,\n        \"max\": 0.9999999999999999,\n        \"num_unique_values\": 369,\n        \"samples\": [\n          0.9999999999999999,\n          0.01859924440569602,\n          0.00929962220284801\n        ],\n        \"semantic_type\": \"\",\n        \"description\": \"\"\n      }\n    },\n    {\n      \"column\": \"v_g\",\n      \"properties\": {\n        \"dtype\": \"number\",\n        \"std\": 0.019826213735000552,\n        \"min\": 0.0,\n        \"max\": 0.9999999999999999,\n        \"num_unique_values\": 103,\n        \"samples\": [\n          0.04962779156327543,\n          0.6749379652605458,\n          0.15384615384615385\n        ],\n        \"semantic_type\": \"\",\n        \"description\": \"\"\n      }\n    },\n    {\n      \"column\": \"ev_g\",\n      \"properties\": {\n        \"dtype\": \"number\",\n        \"std\": 0.02864299436007629,\n        \"min\": 0.0,\n        \"max\": 1.0,\n        \"num_unique_values\": 70,\n        \"samples\": [\n          0.11585365853658536,\n          0.0,\n          0.21341463414634146\n        ],\n        \"semantic_type\": \"\",\n        \"description\": \"\"\n      }\n    },\n    {\n      \"column\": \"v\",\n      \"properties\": {\n        \"dtype\": \"number\",\n        \"std\": 0.02477651298561012,\n        \"min\": 0.0,\n        \"max\": 0.9999999999999999,\n        \"num_unique_values\": 4385,\n        \"samples\": [\n          0.02059496473142959,\n          0.008217202683095849,\n          0.005360748475949517\n        ],\n        \"semantic_type\": \"\",\n        \"description\": \"\"\n      }\n    },\n    {\n      \"column\": \"l\",\n      \"properties\": {\n        \"dtype\": \"number\",\n        \"std\": 0.14970383508989366,\n        \"min\": 0.0,\n        \"max\": 1.0,\n        \"num_unique_values\": 54,\n        \"samples\": [\n          0.23880597014925373,\n          0.5522388059701492,\n          0.835820895522388\n        ],\n        \"semantic_type\": \"\",\n        \"description\": \"\"\n      }\n    },\n    {\n      \"column\": \"lOComment\",\n      \"properties\": {\n        \"dtype\": \"number\",\n        \"std\": 0.017120267762117683,\n        \"min\": 0.0,\n        \"max\": 1.0,\n        \"num_unique_values\": 91,\n        \"samples\": [\n          0.11918604651162791,\n          0.040697674418604654,\n          0.23837209302325582\n        ],\n        \"semantic_type\": \"\",\n        \"description\": \"\"\n      }\n    },\n    {\n      \"column\": \"lOBlank\",\n      \"properties\": {\n        \"dtype\": \"number\",\n        \"std\": 0.028712586502266543,\n        \"min\": 0.0,\n        \"max\": 1.0,\n        \"num_unique_values\": 92,\n        \"samples\": [\n          0.1643835616438356,\n          0.1004566210045662,\n          0.2465753424657534\n        ],\n        \"semantic_type\": \"\",\n        \"description\": \"\"\n      }\n    },\n    {\n      \"column\": \"locCodeAndComment\",\n      \"properties\": {\n        \"dtype\": \"number\",\n        \"std\": 0.02621666348103694,\n        \"min\": 0.0,\n        \"max\": 1.0,\n        \"num_unique_values\": 27,\n        \"samples\": [\n          0.21052631578947367,\n          0.18421052631578946,\n          0.2631578947368421\n        ],\n        \"semantic_type\": \"\",\n        \"description\": \"\"\n      }\n    },\n    {\n      \"column\": \"total_Opnd\",\n      \"properties\": {\n        \"dtype\": \"number\",\n        \"std\": 0.023035544765240747,\n        \"min\": 0.0,\n        \"max\": 1.0,\n        \"num_unique_values\": 477,\n        \"samples\": [\n          0.22442899702085403,\n          0.007944389275074478,\n          0.024826216484607748\n        ],\n        \"semantic_type\": \"\",\n        \"description\": \"\"\n      }\n    },\n    {\n      \"column\": \"branchCount\",\n      \"properties\": {\n        \"dtype\": \"number\",\n        \"std\": 0.02898232194174705,\n        \"min\": 0.0,\n        \"max\": 1.0,\n        \"num_unique_values\": 142,\n        \"samples\": [\n          0.1892430278884462,\n          0.053784860557768925,\n          0.796812749003984\n        ],\n        \"semantic_type\": \"\",\n        \"description\": \"\"\n      }\n    },\n    {\n      \"column\": \"cluster\",\n      \"properties\": {\n        \"dtype\": \"int32\",\n        \"num_unique_values\": 2,\n        \"samples\": [\n          1,\n          0\n        ],\n        \"semantic_type\": \"\",\n        \"description\": \"\"\n      }\n    }\n  ]\n}"
            }
          },
          "metadata": {},
          "execution_count": 156
        }
      ]
    },
    {
      "cell_type": "markdown",
      "source": [
        "Vamos comparar os clusteres criados com as verdadeiras *labels*."
      ],
      "metadata": {
        "id": "iSRiHLGIFwzz"
      }
    },
    {
      "cell_type": "code",
      "source": [
        "from sklearn.metrics.cluster import rand_score, adjusted_rand_score\n",
        "\n",
        "print(rand_score(df_train_chi2['cluster'], y_train))\n",
        "print(adjusted_rand_score(df_train_chi2['cluster'], y_train))"
      ],
      "metadata": {
        "colab": {
          "base_uri": "https://localhost:8080/"
        },
        "id": "EC2MG1oBGIHg",
        "outputId": "09f97bfa-17d4-452b-9013-4f7cba85b531"
      },
      "execution_count": null,
      "outputs": [
        {
          "output_type": "stream",
          "name": "stdout",
          "text": [
            "0.5297261483413154\n",
            "-0.06888205288771096\n"
          ]
        }
      ]
    },
    {
      "cell_type": "markdown",
      "source": [
        "A medida Rand Score ajustada nos fornece um valor bem próximo de 0. O que isso significa é que o KMeans clusterizou as instâncias de um modo praticamente aleatório. Ou seja, com essas features não foi possível identificar os grupos que supostamente pertenceriam a classe 0 ou 1."
      ],
      "metadata": {
        "id": "GLHtp38dG0MX"
      }
    }
  ]
}